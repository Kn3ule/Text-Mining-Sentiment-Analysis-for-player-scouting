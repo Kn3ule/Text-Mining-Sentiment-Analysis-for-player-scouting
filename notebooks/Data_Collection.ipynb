{
 "cells": [
  {
   "cell_type": "markdown",
   "metadata": {
    "colab_type": "text",
    "id": "view-in-github"
   },
   "source": [
    "<a href=\"https://colab.research.google.com/github/Kn3ule/Text-Mining-Sentiment-Analysis-for-player-scouting/blob/main/Data_Collection.ipynb\" target=\"_parent\"><img src=\"https://colab.research.google.com/assets/colab-badge.svg\" alt=\"Open In Colab\"/></a>"
   ]
  },
  {
   "cell_type": "code",
   "execution_count": 6,
   "metadata": {
    "id": "Ic-f-CGCJnpJ"
   },
   "outputs": [],
   "source": [
    "import requests\n",
    "from selenium import webdriver\n",
    "from selenium.webdriver.common.by import By\n",
    "from selenium.webdriver.common.keys import Keys\n",
    "from selenium.webdriver.support.ui import WebDriverWait\n",
    "from selenium.webdriver.support import expected_conditions as EC\n",
    "import time\n",
    "from dotenv import load_dotenv\n",
    "import os\n",
    "import json\n",
    "import random\n",
    "from bs4 import BeautifulSoup as bs\n",
    "import re\n",
    "import random"
   ]
  },
  {
   "cell_type": "markdown",
   "metadata": {},
   "source": [
    "# Instagram"
   ]
  },
  {
   "cell_type": "code",
   "execution_count": 8,
   "metadata": {},
   "outputs": [],
   "source": [
    "def get_post_info(driver, link):\n",
    "    driver.get(f'{link}?img_index=1')  # fully load a moderate dynanmic webpage\n",
    "    wait = WebDriverWait(driver, 10)\n",
    "    # **Schritt 1: Button klicken, um Kommentare auf \"Neueste\" umzustellen**\n",
    "\n",
    "    # **Schritt 1: Klicken auf den Span mit dem Text \"Für dich\"**\n",
    "\n",
    "    try:\n",
    "        # Finden des Span-Elements mit dem Text \"Für dich\"\n",
    "        fuer_dich_span = driver.find_element(By.XPATH, \"//span[text()='Für dich']\")\n",
    "        fuer_dich_span.click()\n",
    "        time.sleep(1)  # Warten, bis das Menü erscheint\n",
    "\n",
    "        # **Schritt 2: Auswählen des Span mit dem Text \"Neueste\"**\n",
    "\n",
    "        neueste_span = driver.find_element(By.XPATH, \"//span[text()='Neueste']\")\n",
    "        neueste_span.click()\n",
    "        time.sleep(2)  # Warten, bis die Kommentare neu geladen sind\n",
    "\n",
    "    except Exception as e:\n",
    "        print(f'Fehler beim Umschalten auf \"Neueste\" Kommentare: {e}')\n",
    "    \n",
    "    res = driver.page_source\n",
    "    soup = bs(res,'html.parser')\n",
    "    body = soup.find('body')\n",
    "    try:\n",
    "        captions = body.find_all('span', {'class': 'x193iq5w xeuugli x1fj9vlw x13faqbe x1vvkbs xt0psk2 x1i0vuye xvs91rp xo1l8bm x5n08af x10wh9bi x1wdrske x8viiok x18hxmgj'})\n",
    "        for caption in captions:\n",
    "            if caption.text != \"und\":\n",
    "                caption = caption.text\n",
    "    except:\n",
    "        caption = ''\n",
    "        print(\"Keine Caption gefunden\")\n",
    "\n",
    "    # **Schritt 3: Scrollen in der Kommentarspalte, um alle Kommentare zu laden**\n",
    "\n",
    "    comments_section = driver.find_element(By.CSS_SELECTOR, '.x5yr21d.xw2csxc.x1odjw0f.x1n2onr6')\n",
    "    #comments_section = driver.find_element(By.CSS_SELECTOR, '.x78zum5.xdt5ytf.x1iyjqo2.xs83m0k.x2lwn1j.x1odjw0f.x1n2onr6.x9ek82g.x6ikm8r.xdj266r.x11i5rnm.x4ii5y1.x1mh8g0r.xexx8yu.x1pi30zi.x18d9i69.x1swvt13')\n",
    "    last_height = driver.execute_script(\"return arguments[0].scrollHeight\", comments_section)\n",
    "\n",
    "    while True:\n",
    "        try:\n",
    "            # Scrollen nach unten in der Kommentare-Sektion\n",
    "            driver.execute_script(\"arguments[0].scrollTo(0, arguments[0].scrollHeight);\", comments_section)\n",
    "            time.sleep(5)  # Warten, bis neue Kommentare geladen sind\n",
    "\n",
    "            # Überprüfen, ob neue Kommentare geladen wurden\n",
    "            new_height = driver.execute_script(\"return arguments[0].scrollHeight\", comments_section)\n",
    "            if new_height == last_height:\n",
    "                break  # Alle Kommentare sind geladen\n",
    "            last_height = new_height\n",
    "        except:\n",
    "            print(\"scrollen durch Kommentare nicht möglich\")\n",
    "\n",
    "    # **Schritt 4: Extrahieren der Kommentare**\n",
    "\n",
    "    time.sleep(5)\n",
    "    \n",
    "    res = driver.page_source\n",
    "    soup = bs(res,'html.parser')\n",
    "    body = soup.find('body')  #  creating a beautifulsoup object using source page variable created above\n",
    "    divs = body.find_all( 'div', {'class': 'x9f619 xjbqb8w x78zum5 x168nmei x13lgxp2 x5pf9jr xo71vjh x1uhb9sk x1plvlek xryxfnj x1c4vz4f x2lah0s xdt5ytf xqjyukv x1cy8zhl x1oa3qoh x1nhvcw1'}) # finding all div tags with a class attribute from beautifulsoup object\n",
    "\n",
    "    # iterating through all div tags and getting span tag text using for loop\n",
    "    comment_insta=[]\n",
    "    for div in divs[0:]:       # iterating through all div tags using for loop\n",
    "        spans = div.find_all('span') # finding span tags which are within div tag  with a class attribute\n",
    "        \n",
    "        for span in spans:            # iterating over spans variable to get requuired text\n",
    "            comment_insta.append(span.text)  # saving cleaned comments in comments list\n",
    "\n",
    "    # Erstellen eines Dictionaries für den aktuellen Post\n",
    "    post_data = {\n",
    "        'link': link,\n",
    "        'caption': caption,\n",
    "        'comments': comment_insta\n",
    "    }\n",
    "\n",
    "    return post_data"
   ]
  },
  {
   "cell_type": "code",
   "execution_count": 15,
   "metadata": {},
   "outputs": [],
   "source": [
    "def get_links_of_posts(driver, club):\n",
    "    links = []\n",
    "\n",
    "    # Instagram öffnen\n",
    "    driver.get(\"https://www.instagram.com\")\n",
    "    time.sleep(3)\n",
    "\n",
    "    # Cookies aus der JSON-Datei laden\n",
    "    with open('../cookies/insta-cookies.json', 'r') as cookies_file:\n",
    "        cookies = json.load(cookies_file)\n",
    "\n",
    "    # Cookies in den Browser laden\n",
    "    for cookie in cookies:\n",
    "        # Passe das Cookie an, falls es Probleme gibt (z. B. Domain anpassen)\n",
    "        if 'sameSite' in cookie:\n",
    "            del cookie['sameSite']  # Selenium unterstützt nicht alle Cookie-Attribute\n",
    "        driver.add_cookie(cookie)\n",
    "\n",
    "    # Seite aktualisieren, um die Cookies anzuwenden und als eingeloggter Nutzer zu interagieren\n",
    "    driver.get(\"https://www.instagram.com\")\n",
    "    time.sleep(3)\n",
    "\n",
    "    # Optional: Wartezeit erhöhen, um sicherzustellen, dass die Seite vollständig geladen ist\n",
    "    time.sleep(5)\n",
    "\n",
    "    # \"Benachrichtigungen aktivieren\" umgehen\n",
    "    '''\n",
    "    try:\n",
    "        # Das Element \"Jetzt nicht\" suchen und klicken\n",
    "        not_now_button = driver.find_element(By.XPATH, \"//button[text()='Jetzt nicht']\")\n",
    "        not_now_button.click()\n",
    "        print(\"Benachrichtigungen wurden deaktiviert.\")\n",
    "        time.sleep(2)\n",
    "    except Exception as e:\n",
    "        print(\"Kein Benachrichtigungs-Dialog oder Fehler beim Klicken:\", e)\n",
    "    '''\n",
    "    \n",
    "    # Weiter mit dem Scraping-Prozess, z.B. zum Vereinsprofil navigieren\n",
    "    driver.get(f'https://www.instagram.com/{club}/')\n",
    "    time.sleep(5)\n",
    "\n",
    "                \n",
    "    for i in range(20): #Je öfter gescrollt wird, desto mehr posts werden generiert (x=20, ca. 120 Posts)\n",
    "        try:\n",
    "            driver.execute_script(\"window.scrollTo(0, document.body.scrollHeight);\")\n",
    "            \n",
    "            # Finden aller Reihen\n",
    "            #rows = driver.find_elements(By.CSS_SELECTOR, '._ac7v.xras4av.xgc1b0m.xat24cr.xzboxd6')  # Passen Sie den Selektor an\n",
    "            rows = driver.find_elements(By.CSS_SELECTOR, '._ac7v.x1f01sob.xcghwft.xat24cr.xzboxd6')\n",
    "            \n",
    "\n",
    "            for row in rows:\n",
    "                try:\n",
    "                    # Finden aller Kacheln innerhalb der Reihe\n",
    "                    tiles = row.find_elements(By.CSS_SELECTOR, '.x1lliihq.x1n2onr6.xh8yej3.x4gyw5p.x1ntc13c.x9i3mqj.x11i5rnm.x2pgyrj')\n",
    "                    \n",
    "                    for tile in tiles:\n",
    "                        link_element = tile.find_element(By.TAG_NAME, 'a')\n",
    "                        href = link_element.get_attribute('href')\n",
    "                        if href:\n",
    "                            links.append(href)\n",
    "                except:\n",
    "                    (print(\"konnte nicht verarbeitet werden\"))\n",
    "        except:\n",
    "            print(\"Scrollen durch Posts nicht möglich\")\n",
    "        \n",
    "        time.sleep(5)\n",
    "\n",
    "    return links\n",
    "\n",
    "\n"
   ]
  },
  {
   "cell_type": "code",
   "execution_count": 10,
   "metadata": {},
   "outputs": [],
   "source": [
    "def get_posts_and_comments_by_club(club):\n",
    "    #Scrape Instagram Post and Comments\n",
    "    driver = webdriver.Chrome()\n",
    "    posts = []\n",
    "\n",
    "    links = get_links_of_posts(driver=driver, club=club)\n",
    "    \n",
    "    # Annahme: links ist eine Liste von Links, die durchlaufen werden sollen\n",
    "    for idx, link in enumerate(list(dict.fromkeys(links)), start=1):\n",
    "        post = get_post_info(driver=driver, link=link)\n",
    "        posts.append(post)\n",
    "\n",
    "        # Normale Wartezeit zwischen den Schleifendurchläufen\n",
    "        time.sleep(random.randint(7, 23)) \n",
    "\n",
    "        # Überprüfen, ob die Iteration ein Vielfaches von 10 ist\n",
    "        if idx % 10 == 0:\n",
    "            print(f\"Iteration {idx}: 2 Minuten Pause.\")\n",
    "            time.sleep(120)  # 120 Sekunden (2 Minuten) Pause\n",
    "    \n",
    "    driver.quit()\n",
    "    \n",
    "    return posts\n"
   ]
  },
  {
   "cell_type": "code",
   "execution_count": null,
   "metadata": {},
   "outputs": [
    {
     "name": "stdout",
     "output_type": "stream",
     "text": [
      "konnte nicht verarbeitet werden\n",
      "konnte nicht verarbeitet werden\n",
      "konnte nicht verarbeitet werden\n",
      "konnte nicht verarbeitet werden\n",
      "['https://www.instagram.com/palmeiras/reel/DG4N3W7ulbP/', 'https://www.instagram.com/palmeiras/p/DGtQKuFCYdb/', 'https://www.instagram.com/palmeiras/reel/DGCIpG3u5w7/', 'https://www.instagram.com/avantipalmeiras/reel/DHBhJwAs1Im/', 'https://www.instagram.com/palmeiras/p/DHAMIqBNRxf/', 'https://www.instagram.com/palmeiras/reel/DG_69p_NmWV/', 'https://www.instagram.com/palmeiras/p/DG_2lLPRYlt/', 'https://www.instagram.com/palmeiras/p/DG_y0XrPWnD/', 'https://www.instagram.com/palmeiras/p/DG_i5HAPSuh/', 'https://www.instagram.com/palmeiras/reel/DG_eItwS2EF/', 'https://www.instagram.com/palmeiras/p/DG_cCFcNXPU/', 'https://www.instagram.com/palmeiras/reel/DG_VM8txFfH/', 'https://www.instagram.com/palmeiras/reel/DG4N3W7ulbP/', 'https://www.instagram.com/palmeiras/p/DGtQKuFCYdb/', 'https://www.instagram.com/palmeiras/reel/DGCIpG3u5w7/', 'https://www.instagram.com/avantipalmeiras/reel/DHBhJwAs1Im/', 'https://www.instagram.com/palmeiras/p/DHAMIqBNRxf/', 'https://www.instagram.com/palmeiras/reel/DG_69p_NmWV/', 'https://www.instagram.com/palmeiras/p/DG_2lLPRYlt/', 'https://www.instagram.com/palmeiras/p/DG_y0XrPWnD/', 'https://www.instagram.com/palmeiras/p/DG_i5HAPSuh/', 'https://www.instagram.com/palmeiras/reel/DG_eItwS2EF/', 'https://www.instagram.com/palmeiras/p/DG_cCFcNXPU/', 'https://www.instagram.com/palmeiras/reel/DG_VM8txFfH/', 'https://www.instagram.com/palmeiras/p/DG_OTwgo0dD/', 'https://www.instagram.com/palmeiras/p/DG_L_s8g20T/', 'https://www.instagram.com/palmeiras/p/DG_HdXMtEv-/', 'https://www.instagram.com/palmeiras/p/DG_Cbl5tzd6/', 'https://www.instagram.com/palmeiras/reel/DG-y6n4ue2e/', 'https://www.instagram.com/palmeiras/p/DG-r-RSutVK/', 'https://www.instagram.com/palmeirasfeminino/reel/DG9Ebq2STKM/', 'https://www.instagram.com/palmeirasfeminino/reel/DG8_5oXSpnN/', 'https://www.instagram.com/avantipalmeiras/reel/DG8pfPBvbtz/', 'https://www.instagram.com/palmeiras/p/DG8guoYu1jX/', 'https://www.instagram.com/avantipalmeiras/reel/DG8eSCGMvBg/', 'https://www.instagram.com/palmeiras/reel/DG8OFuQu2fz/', 'https://www.instagram.com/palmeiras/p/DG_2lLPRYlt/', 'https://www.instagram.com/palmeiras/p/DG_y0XrPWnD/', 'https://www.instagram.com/palmeiras/p/DG_i5HAPSuh/', 'https://www.instagram.com/palmeiras/reel/DG_eItwS2EF/', 'https://www.instagram.com/palmeiras/p/DG_cCFcNXPU/', 'https://www.instagram.com/palmeiras/reel/DG_VM8txFfH/', 'https://www.instagram.com/palmeiras/p/DG_OTwgo0dD/', 'https://www.instagram.com/palmeiras/p/DG_L_s8g20T/', 'https://www.instagram.com/palmeiras/p/DG_HdXMtEv-/', 'https://www.instagram.com/palmeiras/p/DG_Cbl5tzd6/', 'https://www.instagram.com/palmeiras/reel/DG-y6n4ue2e/', 'https://www.instagram.com/palmeiras/p/DG-r-RSutVK/', 'https://www.instagram.com/palmeirasfeminino/reel/DG9Ebq2STKM/', 'https://www.instagram.com/palmeirasfeminino/reel/DG8_5oXSpnN/', 'https://www.instagram.com/avantipalmeiras/reel/DG8pfPBvbtz/', 'https://www.instagram.com/palmeiras/p/DG8guoYu1jX/', 'https://www.instagram.com/avantipalmeiras/reel/DG8eSCGMvBg/', 'https://www.instagram.com/palmeiras/reel/DG8OFuQu2fz/', 'https://www.instagram.com/palmeiras/p/DG8HLeUO56P/', 'https://www.instagram.com/palmeirasfeminino/p/DG8BqhQAjij/', 'https://www.instagram.com/palmeiras/reel/DG60y7CRfYY/', 'https://www.instagram.com/palmeiras/reel/DG6yJsKx9MA/', 'https://www.instagram.com/palmeiras/reel/DG6nEuBxBN8/', 'https://www.instagram.com/palmeiras/reel/DG6h_lZRQhx/', 'https://www.instagram.com/palmeiras/reel/DG6dU9ARo8l/', 'https://www.instagram.com/palmeiras/reel/DG6Z_u2R8nv/', 'https://www.instagram.com/palmeiras/reel/DG6WyRURtr-/', 'https://www.instagram.com/palmeiras/p/DG6ScC_oMro/', 'https://www.instagram.com/palmeiras/p/DG6Me-BzIri/', 'https://www.instagram.com/palmeiras/p/DG6JDqNT50n/', 'https://www.instagram.com/palmeirasfeminino/reel/DG9Ebq2STKM/', 'https://www.instagram.com/palmeirasfeminino/reel/DG8_5oXSpnN/', 'https://www.instagram.com/avantipalmeiras/reel/DG8pfPBvbtz/', 'https://www.instagram.com/palmeiras/p/DG8guoYu1jX/', 'https://www.instagram.com/avantipalmeiras/reel/DG8eSCGMvBg/', 'https://www.instagram.com/palmeiras/reel/DG8OFuQu2fz/', 'https://www.instagram.com/palmeiras/p/DG8HLeUO56P/', 'https://www.instagram.com/palmeirasfeminino/p/DG8BqhQAjij/', 'https://www.instagram.com/palmeiras/reel/DG60y7CRfYY/', 'https://www.instagram.com/palmeiras/reel/DG6yJsKx9MA/', 'https://www.instagram.com/palmeiras/reel/DG6nEuBxBN8/', 'https://www.instagram.com/palmeiras/reel/DG6h_lZRQhx/', 'https://www.instagram.com/palmeiras/reel/DG6dU9ARo8l/', 'https://www.instagram.com/palmeiras/reel/DG6Z_u2R8nv/', 'https://www.instagram.com/palmeiras/reel/DG6WyRURtr-/', 'https://www.instagram.com/palmeiras/p/DG6ScC_oMro/', 'https://www.instagram.com/palmeiras/p/DG6Me-BzIri/', 'https://www.instagram.com/palmeiras/p/DG6JDqNT50n/', 'https://www.instagram.com/palmeirasfeminino/p/DG6C3h6ApAG/', 'https://www.instagram.com/palmeiras/reel/DG5_H8TuZGI/', 'https://www.instagram.com/palmeiras/p/DG5x8xgujCW/', 'https://www.instagram.com/palmeiras/p/DG5wl7kNsfy/', 'https://www.instagram.com/palmeiras/p/DG5lyBDxsaK/', 'https://www.instagram.com/palmeiras/p/DG5f5Cut2w_/', 'https://www.instagram.com/palmeiras/p/DG4Le6vMoFH/', 'https://www.instagram.com/palmeiras/reel/DG37Ay3uNgJ/', 'https://www.instagram.com/palmeiras/p/DG30hDPOeS3/', 'https://www.instagram.com/palmeiras/p/DG3hDLAN1wW/', 'https://www.instagram.com/palmeiras/p/DG3ceGCJwUs/', 'https://www.instagram.com/palmeiras/p/DG3X7guTz6_/', 'https://www.instagram.com/palmeiras/reel/DG6dU9ARo8l/', 'https://www.instagram.com/palmeiras/reel/DG6Z_u2R8nv/', 'https://www.instagram.com/palmeiras/reel/DG6WyRURtr-/', 'https://www.instagram.com/palmeiras/p/DG6ScC_oMro/', 'https://www.instagram.com/palmeiras/p/DG6Me-BzIri/', 'https://www.instagram.com/palmeiras/p/DG6JDqNT50n/', 'https://www.instagram.com/palmeirasfeminino/p/DG6C3h6ApAG/', 'https://www.instagram.com/palmeiras/reel/DG5_H8TuZGI/', 'https://www.instagram.com/palmeiras/p/DG5x8xgujCW/', 'https://www.instagram.com/palmeiras/p/DG5wl7kNsfy/', 'https://www.instagram.com/palmeiras/p/DG5lyBDxsaK/', 'https://www.instagram.com/palmeiras/p/DG5f5Cut2w_/', 'https://www.instagram.com/palmeiras/p/DG4Le6vMoFH/', 'https://www.instagram.com/palmeiras/reel/DG37Ay3uNgJ/', 'https://www.instagram.com/palmeiras/p/DG30hDPOeS3/', 'https://www.instagram.com/palmeiras/p/DG3hDLAN1wW/', 'https://www.instagram.com/palmeiras/p/DG3ceGCJwUs/', 'https://www.instagram.com/palmeiras/p/DG3X7guTz6_/', 'https://www.instagram.com/palmeiras/reel/DG3O8eHu9TY/', 'https://www.instagram.com/avantipalmeiras/p/DG3LbXoPLKs/', 'https://www.instagram.com/palmeiras/p/DG3G4VaRMMY/', 'https://www.instagram.com/palmeiras/reel/DG3EnAipeZV/', 'https://www.instagram.com/palmeiras/p/DG3CJuJiBgS/', 'https://www.instagram.com/palmeiras/p/DG27SfIOTPI/', 'https://www.instagram.com/palmeiras/reel/DG1a1G1RmBf/', 'https://www.instagram.com/palmeiras/reel/DG1WnP3RF3H/', 'https://www.instagram.com/palmeiras/reel/DG1NTDgRE53/', 'https://www.instagram.com/palmeiras/reel/DG1IdvspXpP/', 'https://www.instagram.com/palmeiras/p/DG0-FUeJ_AG/', 'https://www.instagram.com/palmeiras/p/DG0rGAmOdLA/', 'https://www.instagram.com/palmeiras/p/DG4Le6vMoFH/', 'https://www.instagram.com/palmeiras/reel/DG37Ay3uNgJ/', 'https://www.instagram.com/palmeiras/p/DG30hDPOeS3/', 'https://www.instagram.com/palmeiras/p/DG3hDLAN1wW/', 'https://www.instagram.com/palmeiras/p/DG3ceGCJwUs/', 'https://www.instagram.com/palmeiras/p/DG3X7guTz6_/', 'https://www.instagram.com/palmeiras/reel/DG3O8eHu9TY/', 'https://www.instagram.com/avantipalmeiras/p/DG3LbXoPLKs/', 'https://www.instagram.com/palmeiras/p/DG3G4VaRMMY/', 'https://www.instagram.com/palmeiras/reel/DG3EnAipeZV/', 'https://www.instagram.com/palmeiras/p/DG3CJuJiBgS/', 'https://www.instagram.com/palmeiras/p/DG27SfIOTPI/', 'https://www.instagram.com/palmeiras/reel/DG1a1G1RmBf/', 'https://www.instagram.com/palmeiras/reel/DG1WnP3RF3H/', 'https://www.instagram.com/palmeiras/reel/DG1NTDgRE53/', 'https://www.instagram.com/palmeiras/reel/DG1IdvspXpP/', 'https://www.instagram.com/palmeiras/p/DG0-FUeJ_AG/', 'https://www.instagram.com/palmeiras/p/DG0rGAmOdLA/', 'https://www.instagram.com/palmeiras/p/DG0o4qDulF5/', 'https://www.instagram.com/palmeiras/p/DG0lh1-upm2/', 'https://www.instagram.com/palmeiras/reel/DG0dnyAufg2/', 'https://www.instagram.com/palmeiras/reel/DGzCz5mN_ze/', 'https://www.instagram.com/palmeiras/reel/DGy88Nvuj62/', 'https://www.instagram.com/palmeiras/reel/DGy4pkYOHLv/', 'https://www.instagram.com/palmeiras/p/DGyyIz9xAZD/', 'https://www.instagram.com/palmeiras/reel/DGyq74vJ3U_/', 'https://www.instagram.com/palmeiras/p/DGynfG9PKCJ/', 'https://www.instagram.com/palmeiras/p/DGykQB7Ri8i/', 'https://www.instagram.com/palmeiras/reel/DGygo6_Jw5w/', 'https://www.instagram.com/palmeiras/reel/DGyIBsDJYVY/', 'https://www.instagram.com/palmeiras/reel/DG1a1G1RmBf/', 'https://www.instagram.com/palmeiras/reel/DG1WnP3RF3H/', 'https://www.instagram.com/palmeiras/reel/DG1NTDgRE53/', 'https://www.instagram.com/palmeiras/reel/DG1IdvspXpP/', 'https://www.instagram.com/palmeiras/p/DG0-FUeJ_AG/', 'https://www.instagram.com/palmeiras/p/DG0rGAmOdLA/', 'https://www.instagram.com/palmeiras/p/DG0o4qDulF5/', 'https://www.instagram.com/palmeiras/p/DG0lh1-upm2/', 'https://www.instagram.com/palmeiras/reel/DG0dnyAufg2/', 'https://www.instagram.com/palmeiras/reel/DGzCz5mN_ze/', 'https://www.instagram.com/palmeiras/reel/DGy88Nvuj62/', 'https://www.instagram.com/palmeiras/reel/DGy4pkYOHLv/', 'https://www.instagram.com/palmeiras/p/DGyyIz9xAZD/', 'https://www.instagram.com/palmeiras/reel/DGyq74vJ3U_/', 'https://www.instagram.com/palmeiras/p/DGynfG9PKCJ/', 'https://www.instagram.com/palmeiras/p/DGykQB7Ri8i/', 'https://www.instagram.com/palmeiras/reel/DGygo6_Jw5w/', 'https://www.instagram.com/palmeiras/reel/DGyIBsDJYVY/', 'https://www.instagram.com/palmeiras/p/DGyDaYGpvJc/', 'https://www.instagram.com/palmeiras/reel/DGyBYKBJupf/', 'https://www.instagram.com/palmeiras/reel/DGx9XOZu2gS/', 'https://www.instagram.com/palmeiras/p/DGwfW2aukmU/', 'https://www.instagram.com/palmeiras/p/DGwaG_tOj0J/', 'https://www.instagram.com/palmeiras/reel/DGwL6cwOq-_/', 'https://www.instagram.com/palmeiras/p/DGwHPPOO1mF/', 'https://www.instagram.com/palmeiras/p/DGv4ep9utyM/', 'https://www.instagram.com/palmeiras/reel/DGvsoKBOZ7K/', 'https://www.instagram.com/palmeiras/p/DGvq1e9t8ZJ/', 'https://www.instagram.com/palmeiras/reel/DGvYSKBOjxw/', 'https://www.instagram.com/palmeiras/p/DGvVeYgu2Hx/', 'https://www.instagram.com/palmeiras/p/DGyyIz9xAZD/', 'https://www.instagram.com/palmeiras/reel/DGyq74vJ3U_/', 'https://www.instagram.com/palmeiras/p/DGynfG9PKCJ/', 'https://www.instagram.com/palmeiras/p/DGykQB7Ri8i/', 'https://www.instagram.com/palmeiras/reel/DGygo6_Jw5w/', 'https://www.instagram.com/palmeiras/reel/DGyIBsDJYVY/', 'https://www.instagram.com/palmeiras/p/DGyDaYGpvJc/', 'https://www.instagram.com/palmeiras/reel/DGyBYKBJupf/', 'https://www.instagram.com/palmeiras/reel/DGx9XOZu2gS/', 'https://www.instagram.com/palmeiras/p/DGwfW2aukmU/', 'https://www.instagram.com/palmeiras/p/DGwaG_tOj0J/', 'https://www.instagram.com/palmeiras/reel/DGwL6cwOq-_/', 'https://www.instagram.com/palmeiras/p/DGwHPPOO1mF/', 'https://www.instagram.com/palmeiras/p/DGv4ep9utyM/', 'https://www.instagram.com/palmeiras/reel/DGvsoKBOZ7K/', 'https://www.instagram.com/palmeiras/p/DGvq1e9t8ZJ/', 'https://www.instagram.com/palmeiras/reel/DGvYSKBOjxw/', 'https://www.instagram.com/palmeiras/p/DGvVeYgu2Hx/', 'https://www.instagram.com/palmeiras/p/DGvT3GAu2oQ/', 'https://www.instagram.com/palmeiras/reel/DGvRyhqu8I8/', 'https://www.instagram.com/palmeiras/p/DGvFg8wOsTe/', 'https://www.instagram.com/palmeiras/p/DGt83GkR5oi/', 'https://www.instagram.com/palmeiras/p/DGt2A51xpRb/', 'https://www.instagram.com/palmeiras/reel/DGthWDaRTm5/', 'https://www.instagram.com/palmeiras/reel/DGtagPYRnoo/', 'https://www.instagram.com/palmeiras/p/DGtJ4ZoRQBg/', 'https://www.instagram.com/palmeiras/reel/DGtC9xFxbJt/', 'https://www.instagram.com/palmeiras/reel/DGs0WYzRTRm/', 'https://www.instagram.com/palmeiras/p/DGrjeSJurAe/', 'https://www.instagram.com/palmeiras/p/DGrhuBUueFM/', 'https://www.instagram.com/palmeiras/p/DGwHPPOO1mF/', 'https://www.instagram.com/palmeiras/p/DGv4ep9utyM/', 'https://www.instagram.com/palmeiras/reel/DGvsoKBOZ7K/', 'https://www.instagram.com/palmeiras/p/DGvq1e9t8ZJ/', 'https://www.instagram.com/palmeiras/reel/DGvYSKBOjxw/', 'https://www.instagram.com/palmeiras/p/DGvVeYgu2Hx/', 'https://www.instagram.com/palmeiras/p/DGvT3GAu2oQ/', 'https://www.instagram.com/palmeiras/reel/DGvRyhqu8I8/', 'https://www.instagram.com/palmeiras/p/DGvFg8wOsTe/', 'https://www.instagram.com/palmeiras/p/DGt83GkR5oi/', 'https://www.instagram.com/palmeiras/p/DGt2A51xpRb/', 'https://www.instagram.com/palmeiras/reel/DGthWDaRTm5/', 'https://www.instagram.com/palmeiras/reel/DGtagPYRnoo/', 'https://www.instagram.com/palmeiras/p/DGtJ4ZoRQBg/', 'https://www.instagram.com/palmeiras/reel/DGtC9xFxbJt/', 'https://www.instagram.com/palmeiras/reel/DGs0WYzRTRm/', 'https://www.instagram.com/palmeiras/p/DGrjeSJurAe/', 'https://www.instagram.com/palmeiras/p/DGrhuBUueFM/', 'https://www.instagram.com/avantipalmeiras/p/DGrgwJXMedF/', 'https://www.instagram.com/palmeiras/p/DGreX1wOtXZ/', 'https://www.instagram.com/avantipalmeiras/p/DGrdtlQvOLv/', 'https://www.instagram.com/palmeiras/reel/DGrdkuEOstX/', 'https://www.instagram.com/palmeiras/reel/DGrcnBIuJxq/', 'https://www.instagram.com/palmeiras/reel/DGrbh13u2Ad/', 'https://www.instagram.com/palmeiras/p/DGra-MKuqIe/', 'https://www.instagram.com/palmeiras/reel/DGrXfpsuvIp/', 'https://www.instagram.com/palmeiras/reel/DGrXJ91O2Ga/', 'https://www.instagram.com/palmeiras/reel/DGrUDycO8xl/', 'https://www.instagram.com/palmeiras/reel/DGrTdY7uPBz/', 'https://www.instagram.com/palmeiras/reel/DGrQTkzOffO/', 'https://www.instagram.com/palmeiras/reel/DGtagPYRnoo/', 'https://www.instagram.com/palmeiras/p/DGtJ4ZoRQBg/', 'https://www.instagram.com/palmeiras/reel/DGtC9xFxbJt/', 'https://www.instagram.com/palmeiras/reel/DGs0WYzRTRm/', 'https://www.instagram.com/palmeiras/p/DGrjeSJurAe/', 'https://www.instagram.com/palmeiras/p/DGrhuBUueFM/', 'https://www.instagram.com/avantipalmeiras/p/DGrgwJXMedF/', 'https://www.instagram.com/palmeiras/p/DGreX1wOtXZ/', 'https://www.instagram.com/avantipalmeiras/p/DGrdtlQvOLv/', 'https://www.instagram.com/palmeiras/reel/DGrdkuEOstX/', 'https://www.instagram.com/palmeiras/reel/DGrcnBIuJxq/', 'https://www.instagram.com/palmeiras/reel/DGrbh13u2Ad/', 'https://www.instagram.com/palmeiras/p/DGra-MKuqIe/', 'https://www.instagram.com/palmeiras/reel/DGrXfpsuvIp/', 'https://www.instagram.com/palmeiras/reel/DGrXJ91O2Ga/', 'https://www.instagram.com/palmeiras/reel/DGrUDycO8xl/', 'https://www.instagram.com/palmeiras/reel/DGrTdY7uPBz/', 'https://www.instagram.com/palmeiras/reel/DGrQTkzOffO/', 'https://www.instagram.com/palmeiras/reel/DGrQEA0uLHd/', 'https://www.instagram.com/palmeiras/p/DGrNI2WuhDy/', 'https://www.instagram.com/palmeiras/reel/DGrLXnQu3jB/', 'https://www.instagram.com/palmeiras/p/DGrKIm2OD_2/', 'https://www.instagram.com/palmeiras/p/DGrHcqPOxAF/', 'https://www.instagram.com/palmeiras/p/DGrGt63uz6E/', 'https://www.instagram.com/palmeiras/p/DGrFo4tOSs_/', 'https://www.instagram.com/palmeiras/p/DGq8h6dJwTg/', 'https://www.instagram.com/palmeiras/p/DGq5GWvJ0qV/', 'https://www.instagram.com/palmeiras/reel/DGqxWUXuNZy/', 'https://www.instagram.com/palmeiras/p/DGqn7dhBHPq/', 'https://www.instagram.com/palmeiras/p/DGqkheYuGwx/', 'https://www.instagram.com/palmeiras/p/DGra-MKuqIe/', 'https://www.instagram.com/palmeiras/reel/DGrXfpsuvIp/', 'https://www.instagram.com/palmeiras/reel/DGrXJ91O2Ga/', 'https://www.instagram.com/palmeiras/reel/DGrUDycO8xl/', 'https://www.instagram.com/palmeiras/reel/DGrTdY7uPBz/', 'https://www.instagram.com/palmeiras/reel/DGrQTkzOffO/', 'https://www.instagram.com/palmeiras/reel/DGrQEA0uLHd/', 'https://www.instagram.com/palmeiras/p/DGrNI2WuhDy/', 'https://www.instagram.com/palmeiras/reel/DGrLXnQu3jB/', 'https://www.instagram.com/palmeiras/p/DGrKIm2OD_2/', 'https://www.instagram.com/palmeiras/p/DGrHcqPOxAF/', 'https://www.instagram.com/palmeiras/p/DGrGt63uz6E/', 'https://www.instagram.com/palmeiras/p/DGrFo4tOSs_/', 'https://www.instagram.com/palmeiras/p/DGq8h6dJwTg/', 'https://www.instagram.com/palmeiras/p/DGq5GWvJ0qV/', 'https://www.instagram.com/palmeiras/reel/DGqxWUXuNZy/', 'https://www.instagram.com/palmeiras/p/DGqn7dhBHPq/', 'https://www.instagram.com/palmeiras/p/DGqkheYuGwx/', 'https://www.instagram.com/palmeiras/p/DGqWxXSO9aX/', 'https://www.instagram.com/palmeiras/reel/DGqMjfIOQEc/', 'https://www.instagram.com/avantipalmeiras/reel/DGqI5odOZkm/', 'https://www.instagram.com/palmeiras/p/DGqFf6vulvK/', 'https://www.instagram.com/palmeiras/p/DGpA7-lBd8n/', 'https://www.instagram.com/palmeiras/reel/DGosX5Jujgq/', 'https://www.instagram.com/palmeiras/reel/DGohC7gOtcK/', 'https://www.instagram.com/palmeiras/reel/DGocSLeOvey/', 'https://www.instagram.com/palmeiras/p/DGoan5uOJ3K/', 'https://www.instagram.com/palmeiras/p/DGoUTSOO2ZR/', 'https://www.instagram.com/palmeiras/p/DGoP0TsytHH/', 'https://www.instagram.com/palmeiras/reel/DGoKZ3oJ34w/', 'https://www.instagram.com/palmeiras/p/DGrFo4tOSs_/', 'https://www.instagram.com/palmeiras/p/DGq8h6dJwTg/', 'https://www.instagram.com/palmeiras/p/DGq5GWvJ0qV/', 'https://www.instagram.com/palmeiras/reel/DGqxWUXuNZy/', 'https://www.instagram.com/palmeiras/p/DGqn7dhBHPq/', 'https://www.instagram.com/palmeiras/p/DGqkheYuGwx/', 'https://www.instagram.com/palmeiras/p/DGqWxXSO9aX/', 'https://www.instagram.com/palmeiras/reel/DGqMjfIOQEc/', 'https://www.instagram.com/avantipalmeiras/reel/DGqI5odOZkm/', 'https://www.instagram.com/palmeiras/p/DGqFf6vulvK/', 'https://www.instagram.com/palmeiras/p/DGpA7-lBd8n/', 'https://www.instagram.com/palmeiras/reel/DGosX5Jujgq/', 'https://www.instagram.com/palmeiras/reel/DGohC7gOtcK/', 'https://www.instagram.com/palmeiras/reel/DGocSLeOvey/', 'https://www.instagram.com/palmeiras/p/DGoan5uOJ3K/', 'https://www.instagram.com/palmeiras/p/DGoUTSOO2ZR/', 'https://www.instagram.com/palmeiras/p/DGoP0TsytHH/', 'https://www.instagram.com/palmeiras/reel/DGoKZ3oJ34w/', 'https://www.instagram.com/palmeiras/p/DGoGkV3Isth/', 'https://www.instagram.com/libertadoresbr/p/DGoDEgVuhTY/', 'https://www.instagram.com/palmeiras/reel/DGoBV3oOAkd/', 'https://www.instagram.com/palmeiras/p/DGoA3gPuY2Z/', 'https://www.instagram.com/palmeiras/reel/DGn_EJlOPWX/', 'https://www.instagram.com/palmeiras/reel/DGn9tz0uiIi/', 'https://www.instagram.com/palmeiras/p/DGn9gfsOaQt/', 'https://www.instagram.com/palmeiras/p/DGn8fWNuJno/', 'https://www.instagram.com/palmeiras/reel/DGn7nz6ONnX/', 'https://www.instagram.com/palmeiras/reel/DGn7ToduvFS/', 'https://www.instagram.com/palmeiras/reel/DGmEn2mxH7k/', 'https://www.instagram.com/palmeiras/p/DGlkD_fPlt2/', 'https://www.instagram.com/palmeiras/reel/DGohC7gOtcK/', 'https://www.instagram.com/palmeiras/reel/DGocSLeOvey/', 'https://www.instagram.com/palmeiras/p/DGoan5uOJ3K/', 'https://www.instagram.com/palmeiras/p/DGoUTSOO2ZR/', 'https://www.instagram.com/palmeiras/p/DGoP0TsytHH/', 'https://www.instagram.com/palmeiras/reel/DGoKZ3oJ34w/', 'https://www.instagram.com/palmeiras/p/DGoGkV3Isth/', 'https://www.instagram.com/libertadoresbr/p/DGoDEgVuhTY/', 'https://www.instagram.com/palmeiras/reel/DGoBV3oOAkd/', 'https://www.instagram.com/palmeiras/p/DGoA3gPuY2Z/', 'https://www.instagram.com/palmeiras/reel/DGn_EJlOPWX/', 'https://www.instagram.com/palmeiras/reel/DGn9tz0uiIi/', 'https://www.instagram.com/palmeiras/p/DGn9gfsOaQt/', 'https://www.instagram.com/palmeiras/p/DGn8fWNuJno/', 'https://www.instagram.com/palmeiras/reel/DGn7nz6ONnX/', 'https://www.instagram.com/palmeiras/reel/DGn7ToduvFS/', 'https://www.instagram.com/palmeiras/reel/DGmEn2mxH7k/', 'https://www.instagram.com/palmeiras/p/DGlkD_fPlt2/', 'https://www.instagram.com/palmeiras/p/DGlgLyuuShQ/', 'https://www.instagram.com/palmeiras/p/DGlbK1wR6Ra/', 'https://www.instagram.com/palmeiras/p/DGlN8ZvOuF5/', 'https://www.instagram.com/palmeiras/p/DGlC5Lpt7Mo/', 'https://www.instagram.com/palmeiras/p/DGk8A77tFf7/', 'https://www.instagram.com/palmeiras/reel/DGjVEpWxMLQ/', 'https://www.instagram.com/palmeiras/reel/DGjPC08xEKy/', 'https://www.instagram.com/palmeiras/p/DGjHSgzM6cR/', 'https://www.instagram.com/palmeiras/p/DGi71ayNCKq/', 'https://www.instagram.com/palmeiras/p/DGi4YCKNqEn/', 'https://www.instagram.com/palmeiras/p/DGiyuIHhaPz/', 'https://www.instagram.com/palmeiras/p/DGisSnpxonY/', 'https://www.instagram.com/palmeiras/p/DGn9gfsOaQt/', 'https://www.instagram.com/palmeiras/p/DGn8fWNuJno/', 'https://www.instagram.com/palmeiras/reel/DGn7nz6ONnX/', 'https://www.instagram.com/palmeiras/reel/DGn7ToduvFS/', 'https://www.instagram.com/palmeiras/reel/DGmEn2mxH7k/', 'https://www.instagram.com/palmeiras/p/DGlkD_fPlt2/', 'https://www.instagram.com/palmeiras/p/DGlgLyuuShQ/', 'https://www.instagram.com/palmeiras/p/DGlbK1wR6Ra/', 'https://www.instagram.com/palmeiras/p/DGlN8ZvOuF5/', 'https://www.instagram.com/palmeiras/p/DGlC5Lpt7Mo/', 'https://www.instagram.com/palmeiras/p/DGk8A77tFf7/', 'https://www.instagram.com/palmeiras/reel/DGjVEpWxMLQ/', 'https://www.instagram.com/palmeiras/reel/DGjPC08xEKy/', 'https://www.instagram.com/palmeiras/p/DGjHSgzM6cR/', 'https://www.instagram.com/palmeiras/p/DGi71ayNCKq/', 'https://www.instagram.com/palmeiras/p/DGi4YCKNqEn/', 'https://www.instagram.com/palmeiras/p/DGiyuIHhaPz/', 'https://www.instagram.com/palmeiras/p/DGisSnpxonY/', 'https://www.instagram.com/palmeiras/p/DGijP6duoBu/', 'https://www.instagram.com/palmeiras/p/DGigIGXu7c-/', 'https://www.instagram.com/palmeiras/reel/DGhB1fOtZlA/', 'https://www.instagram.com/palmeiras/p/DGg18H-CSg9/', 'https://www.instagram.com/palmeiras/p/DGgygVrIwep/', 'https://www.instagram.com/palmeiras/p/DGguyPbx9ag/', 'https://www.instagram.com/palmeiras/p/DGgpcCKSCjZ/', 'https://www.instagram.com/palmeiras/p/DGgmWIlhe9L/', 'https://www.instagram.com/palmeiras/p/DGgHDCaMNSP/', 'https://www.instagram.com/palmeiras/reel/DGfygEsO4dU/', 'https://www.instagram.com/palmeiras/reel/DGeLhdzxmvU/', 'https://www.instagram.com/palmeiras/reel/DGd9xDCRylW/', 'https://www.instagram.com/palmeiras/reel/DGjPC08xEKy/', 'https://www.instagram.com/palmeiras/p/DGjHSgzM6cR/', 'https://www.instagram.com/palmeiras/p/DGi71ayNCKq/', 'https://www.instagram.com/palmeiras/p/DGi4YCKNqEn/', 'https://www.instagram.com/palmeiras/p/DGiyuIHhaPz/', 'https://www.instagram.com/palmeiras/p/DGisSnpxonY/', 'https://www.instagram.com/palmeiras/p/DGijP6duoBu/', 'https://www.instagram.com/palmeiras/p/DGigIGXu7c-/', 'https://www.instagram.com/palmeiras/reel/DGhB1fOtZlA/', 'https://www.instagram.com/palmeiras/p/DGg18H-CSg9/', 'https://www.instagram.com/palmeiras/p/DGgygVrIwep/', 'https://www.instagram.com/palmeiras/p/DGguyPbx9ag/', 'https://www.instagram.com/palmeiras/p/DGgpcCKSCjZ/', 'https://www.instagram.com/palmeiras/p/DGgmWIlhe9L/', 'https://www.instagram.com/palmeiras/p/DGgHDCaMNSP/', 'https://www.instagram.com/palmeiras/reel/DGfygEsO4dU/', 'https://www.instagram.com/palmeiras/reel/DGeLhdzxmvU/', 'https://www.instagram.com/palmeiras/reel/DGd9xDCRylW/', 'https://www.instagram.com/palmeiras/p/DGd20UZpc9E/', 'https://www.instagram.com/palmeiras/reel/DGdwBtUu_iY/', 'https://www.instagram.com/palmeiras/reel/DGdnwCDO_N2/', 'https://www.instagram.com/palmeiras/reel/DGdiSuWOum9/', 'https://www.instagram.com/palmeiras/p/DGdUgcpidH_/', 'https://www.instagram.com/palmeiras/p/DGdNoyLCezs/', 'https://www.instagram.com/palmeiras/p/DGcAarwxQQ6/', 'https://www.instagram.com/palmeiras/p/DGcAVvkNmQI/', 'https://www.instagram.com/palmeiras/p/DGb_5L0NNqd/', 'https://www.instagram.com/palmeiras/p/DGb9XPitKWn/', 'https://www.instagram.com/palmeiras/p/DGb8BUHt8aw/', 'https://www.instagram.com/palmeiras/reel/DGb5U3SxlHq/', 'https://www.instagram.com/palmeiras/p/DGgpcCKSCjZ/', 'https://www.instagram.com/palmeiras/p/DGgmWIlhe9L/', 'https://www.instagram.com/palmeiras/p/DGgHDCaMNSP/', 'https://www.instagram.com/palmeiras/reel/DGfygEsO4dU/', 'https://www.instagram.com/palmeiras/reel/DGeLhdzxmvU/', 'https://www.instagram.com/palmeiras/reel/DGd9xDCRylW/', 'https://www.instagram.com/palmeiras/p/DGd20UZpc9E/', 'https://www.instagram.com/palmeiras/reel/DGdwBtUu_iY/', 'https://www.instagram.com/palmeiras/reel/DGdnwCDO_N2/', 'https://www.instagram.com/palmeiras/reel/DGdiSuWOum9/', 'https://www.instagram.com/palmeiras/p/DGdUgcpidH_/', 'https://www.instagram.com/palmeiras/p/DGdNoyLCezs/', 'https://www.instagram.com/palmeiras/p/DGcAarwxQQ6/', 'https://www.instagram.com/palmeiras/p/DGcAVvkNmQI/', 'https://www.instagram.com/palmeiras/p/DGb_5L0NNqd/', 'https://www.instagram.com/palmeiras/p/DGb9XPitKWn/', 'https://www.instagram.com/palmeiras/p/DGb8BUHt8aw/', 'https://www.instagram.com/palmeiras/reel/DGb5U3SxlHq/', 'https://www.instagram.com/palmeiras/reel/DGb4fF-R0fc/', 'https://www.instagram.com/palmeiras/p/DGb3QqENx65/', 'https://www.instagram.com/palmeiras/reel/DGb10cCxpmz/', 'https://www.instagram.com/palmeiras/reel/DGb07syRtdl/', 'https://www.instagram.com/palmeiras/p/DGbxWYMxNaY/', 'https://www.instagram.com/palmeiras/reel/DGbwVKkxabo/', 'https://www.instagram.com/palmeiras/reel/DGbruEWRAn1/', 'https://www.instagram.com/palmeiras/reel/DGbnrNQxTXk/', 'https://www.instagram.com/palmeiras/reel/DGbhjcIxVqL/', 'https://www.instagram.com/palmeiras/p/DGbgd7pxvFy/', 'https://www.instagram.com/palmeiras/p/DGbcb7UxyKL/', 'https://www.instagram.com/palmeiras/p/DGbZwd0xdNs/', 'https://www.instagram.com/palmeiras/p/DGcAarwxQQ6/', 'https://www.instagram.com/palmeiras/p/DGcAVvkNmQI/', 'https://www.instagram.com/palmeiras/p/DGb_5L0NNqd/', 'https://www.instagram.com/palmeiras/p/DGb9XPitKWn/', 'https://www.instagram.com/palmeiras/p/DGb8BUHt8aw/', 'https://www.instagram.com/palmeiras/reel/DGb5U3SxlHq/', 'https://www.instagram.com/palmeiras/reel/DGb4fF-R0fc/', 'https://www.instagram.com/palmeiras/p/DGb3QqENx65/', 'https://www.instagram.com/palmeiras/reel/DGb10cCxpmz/', 'https://www.instagram.com/palmeiras/reel/DGb07syRtdl/', 'https://www.instagram.com/palmeiras/p/DGbxWYMxNaY/', 'https://www.instagram.com/palmeiras/reel/DGbwVKkxabo/', 'https://www.instagram.com/palmeiras/reel/DGbruEWRAn1/', 'https://www.instagram.com/palmeiras/reel/DGbnrNQxTXk/', 'https://www.instagram.com/palmeiras/reel/DGbhjcIxVqL/', 'https://www.instagram.com/palmeiras/p/DGbgd7pxvFy/', 'https://www.instagram.com/palmeiras/p/DGbcb7UxyKL/', 'https://www.instagram.com/palmeiras/p/DGbZwd0xdNs/', 'https://www.instagram.com/palmeiras/p/DGbV4uYxac8/', 'https://www.instagram.com/sportingbetbr/p/DGbIHMzxpYK/', 'https://www.instagram.com/palmeiras/reel/DGbHwQ7xjOE/', 'https://www.instagram.com/palmeiras/reel/DGa55pNxx43/', 'https://www.instagram.com/palmeiras/p/DGa2nvmRz55/', 'https://www.instagram.com/palmeiras/p/DGavswqx_HF/', 'https://www.instagram.com/palmeiras/p/DGapQ51x9uM/', 'https://www.instagram.com/palmeiras/reel/DGalaC9xHYI/', 'https://www.instagram.com/palmeiras/p/DGZkPfQRpFJ/', 'https://www.instagram.com/palmeiras/p/DGZJaGDNIbH/', 'https://www.instagram.com/palmeiras/p/DGYtPzTt9UH/', 'https://www.instagram.com/palmeiras/reel/DGYlwnRxWTV/', 'https://www.instagram.com/palmeiras/reel/DGbruEWRAn1/', 'https://www.instagram.com/palmeiras/reel/DGbnrNQxTXk/', 'https://www.instagram.com/palmeiras/reel/DGbhjcIxVqL/', 'https://www.instagram.com/palmeiras/p/DGbgd7pxvFy/', 'https://www.instagram.com/palmeiras/p/DGbcb7UxyKL/', 'https://www.instagram.com/palmeiras/p/DGbZwd0xdNs/', 'https://www.instagram.com/palmeiras/p/DGbV4uYxac8/', 'https://www.instagram.com/sportingbetbr/p/DGbIHMzxpYK/', 'https://www.instagram.com/palmeiras/reel/DGbHwQ7xjOE/', 'https://www.instagram.com/palmeiras/reel/DGa55pNxx43/', 'https://www.instagram.com/palmeiras/p/DGa2nvmRz55/', 'https://www.instagram.com/palmeiras/p/DGavswqx_HF/', 'https://www.instagram.com/palmeiras/p/DGapQ51x9uM/', 'https://www.instagram.com/palmeiras/reel/DGalaC9xHYI/', 'https://www.instagram.com/palmeiras/p/DGZkPfQRpFJ/', 'https://www.instagram.com/palmeiras/p/DGZJaGDNIbH/', 'https://www.instagram.com/palmeiras/p/DGYtPzTt9UH/', 'https://www.instagram.com/palmeiras/reel/DGYlwnRxWTV/', 'https://www.instagram.com/palmeiras/p/DGYkDAHNoyX/', 'https://www.instagram.com/avantipalmeiras/reel/DGYi2CfPIHR/', 'https://www.instagram.com/palmeiras/p/DGYh19Sx2rQ/', 'https://www.instagram.com/palmeiras/reel/DGYhLp2xRTN/', 'https://www.instagram.com/palmeiras/p/DGYbDOFNhqR/', 'https://www.instagram.com/palmeiras/p/DGYRxsCtBg9/', 'https://www.instagram.com/palmeiras/reel/DGYK8tgx6Iq/', 'https://www.instagram.com/palmeiras/p/DGYEDPXNEm1/', 'https://www.instagram.com/palmeiras/reel/DGX9P_CRFks/', 'https://www.instagram.com/avantipalmeiras/reel/DGWeJkpvCI5/', 'https://www.instagram.com/palmeiras/reel/DGWdCZquaux/', 'https://www.instagram.com/palmeiras/p/DGWZmeLvp92/', 'https://www.instagram.com/palmeiras/p/DGapQ51x9uM/', 'https://www.instagram.com/palmeiras/reel/DGalaC9xHYI/', 'https://www.instagram.com/palmeiras/p/DGZkPfQRpFJ/', 'https://www.instagram.com/palmeiras/p/DGZJaGDNIbH/', 'https://www.instagram.com/palmeiras/p/DGYtPzTt9UH/', 'https://www.instagram.com/palmeiras/reel/DGYlwnRxWTV/', 'https://www.instagram.com/palmeiras/p/DGYkDAHNoyX/', 'https://www.instagram.com/avantipalmeiras/reel/DGYi2CfPIHR/', 'https://www.instagram.com/palmeiras/p/DGYh19Sx2rQ/', 'https://www.instagram.com/palmeiras/reel/DGYhLp2xRTN/', 'https://www.instagram.com/palmeiras/p/DGYbDOFNhqR/', 'https://www.instagram.com/palmeiras/p/DGYRxsCtBg9/', 'https://www.instagram.com/palmeiras/reel/DGYK8tgx6Iq/', 'https://www.instagram.com/palmeiras/p/DGYEDPXNEm1/', 'https://www.instagram.com/palmeiras/reel/DGX9P_CRFks/', 'https://www.instagram.com/avantipalmeiras/reel/DGWeJkpvCI5/', 'https://www.instagram.com/palmeiras/reel/DGWdCZquaux/', 'https://www.instagram.com/palmeiras/p/DGWZmeLvp92/', 'https://www.instagram.com/palmeiras/reel/DGWUcySRVnt/', 'https://www.instagram.com/palmeiras/reel/DGWS0ZnROCH/', 'https://www.instagram.com/palmeiras/reel/DGWPDq7x_16/', 'https://www.instagram.com/palmeiras/p/DGWL3pBPu9I/', 'https://www.instagram.com/palmeiras/reel/DGWIjxUxWuO/', 'https://www.instagram.com/palmeiras/reel/DGV_bipO2fV/', 'https://www.instagram.com/palmeiras/p/DGV-A64SHZt/', 'https://www.instagram.com/palmeiras/reel/DGVz4xNxr4X/', 'https://www.instagram.com/palmeiras/p/DGVwfcXRBIm/', 'https://www.instagram.com/palmeiras/p/DGVrQHMivbw/', 'https://www.instagram.com/palmeiras/reel/DGVlRcLuANY/', 'https://www.instagram.com/palmeiras/p/DGUN56SRErS/', 'https://www.instagram.com/palmeiras/reel/DGYK8tgx6Iq/', 'https://www.instagram.com/palmeiras/p/DGYEDPXNEm1/', 'https://www.instagram.com/palmeiras/reel/DGX9P_CRFks/', 'https://www.instagram.com/avantipalmeiras/reel/DGWeJkpvCI5/', 'https://www.instagram.com/palmeiras/reel/DGWdCZquaux/', 'https://www.instagram.com/palmeiras/p/DGWZmeLvp92/', 'https://www.instagram.com/palmeiras/reel/DGWUcySRVnt/', 'https://www.instagram.com/palmeiras/reel/DGWS0ZnROCH/', 'https://www.instagram.com/palmeiras/reel/DGWPDq7x_16/', 'https://www.instagram.com/palmeiras/p/DGWL3pBPu9I/', 'https://www.instagram.com/palmeiras/reel/DGWIjxUxWuO/', 'https://www.instagram.com/palmeiras/reel/DGV_bipO2fV/', 'https://www.instagram.com/palmeiras/p/DGV-A64SHZt/', 'https://www.instagram.com/palmeiras/reel/DGVz4xNxr4X/', 'https://www.instagram.com/palmeiras/p/DGVwfcXRBIm/', 'https://www.instagram.com/palmeiras/p/DGVrQHMivbw/', 'https://www.instagram.com/palmeiras/reel/DGVlRcLuANY/', 'https://www.instagram.com/palmeiras/p/DGUN56SRErS/', 'https://www.instagram.com/palmeiras/reel/DGUMq9vOvb_/', 'https://www.instagram.com/palmeiras/reel/DGULHKLu88T/', 'https://www.instagram.com/avantipalmeiras/p/DGUK-jEvXMZ/', 'https://www.instagram.com/palmeiras/p/DGUJ-1exE6x/', 'https://www.instagram.com/palmeiras/p/DGUJDuCRBgq/', 'https://www.instagram.com/palmeiras/reel/DGUH9ZgNcjv/', 'https://www.instagram.com/palmeiras/reel/DGUG92etFUL/', 'https://www.instagram.com/palmeiras/reel/DGT_P2JSZ_p/', 'https://www.instagram.com/palmeiras/p/DGT62shu5ys/', 'https://www.instagram.com/palmeiras/p/DGT0s9FRzbw/', 'https://www.instagram.com/palmeiras/p/DGTzYIZTxD6/', 'https://www.instagram.com/palmeiras/p/DGTwOhbxW0d/']\n",
      "scrollen durch Kommentare nicht möglich\n",
      "Iteration 10: X Minuten Pause.\n",
      "Iteration 20: X Minuten Pause.\n",
      "Iteration 30: X Minuten Pause.\n",
      "Iteration 40: X Minuten Pause.\n"
     ]
    }
   ],
   "source": [
    "#Scrape Instagram Post and Comments\n",
    "driver = webdriver.Chrome()\n",
    "posts = []\n",
    "club = 'palmeiras'\n",
    "links = get_links_of_posts(driver=driver, club=club)\n",
    "print(links)\n",
    "    \n",
    "# Annahme: links ist eine Liste von Links, die durchlaufen werden sollen\n",
    "for idx, link in enumerate(list(dict.fromkeys(links)), start=1):\n",
    "    # URL in Teile aufsplitten\n",
    "    parts = link.split(\"/\")\n",
    "\n",
    "    # Zusammensetzen ohne den dynamischen Teil (indem du das 4. Element weglässt)\n",
    "    clean_link = \"/\".join(parts[:3] + parts[4:])\n",
    "    try:\n",
    "        post = get_post_info(driver=driver, link=clean_link)\n",
    "        posts.append(post)\n",
    "    except:\n",
    "        print('Konnte nicht geöffnet werden')\n",
    "\n",
    "        # Normale Wartezeit zwischen den Schleifendurchläufen\n",
    "    time.sleep(random.randint(7, 23)) \n",
    "\n",
    "    # Überprüfen, ob die Iteration ein Vielfaches von 10 ist\n",
    "    if idx % 10 == 0:\n",
    "        print(f\"Iteration {idx}: X Minuten Pause.\")\n",
    "        time.sleep(random.randint(60, 180)) # 120 Sekunden (2 Minuten) Pause\n",
    "    \n",
    "driver.quit()\n",
    "\n",
    "# Convert and write JSON object to file\n",
    "with open(\"../data/instagram/palmeiras_instacomments.json\", \"w\", encoding='utf-8') as outfile: \n",
    "    json.dump(posts, outfile, ensure_ascii=False)"
   ]
  },
  {
   "cell_type": "code",
   "execution_count": 21,
   "metadata": {},
   "outputs": [],
   "source": [
    "# Convert and write JSON object to file\n",
    "with open(\"../data/instagram/vfb2_instacomments.json\", \"w\", encoding='utf-8') as outfile: \n",
    "    json.dump(posts, outfile, ensure_ascii=False)"
   ]
  },
  {
   "cell_type": "code",
   "execution_count": 38,
   "metadata": {},
   "outputs": [
    {
     "name": "stdout",
     "output_type": "stream",
     "text": [
      "Benachrichtigungen wurden deaktiviert.\n"
     ]
    }
   ],
   "source": [
    "#Scrape Instagram Post and Comments\n",
    "driver = webdriver.Chrome()\n",
    "link = \"https://www.instagram.com/p/DBI2Xb_psct/\"\n",
    "# Instagram öffnen\n",
    "driver.get(\"https://www.instagram.com\")\n",
    "time.sleep(3)\n",
    "\n",
    "# Cookies aus der JSON-Datei laden\n",
    "with open('cookies/insta-cookies.json', 'r') as cookies_file:\n",
    "    cookies = json.load(cookies_file)\n",
    "\n",
    "# Cookies in den Browser laden\n",
    "for cookie in cookies:\n",
    "    # Passe das Cookie an, falls es Probleme gibt (z. B. Domain anpassen)\n",
    "    if 'sameSite' in cookie:\n",
    "        del cookie['sameSite']  # Selenium unterstützt nicht alle Cookie-Attribute\n",
    "    driver.add_cookie(cookie)\n",
    "\n",
    "# Seite aktualisieren, um die Cookies anzuwenden und als eingeloggter Nutzer zu interagieren\n",
    "driver.get(\"https://www.instagram.com\")\n",
    "time.sleep(3)\n",
    "\n",
    "# Optional: Wartezeit erhöhen, um sicherzustellen, dass die Seite vollständig geladen ist\n",
    "time.sleep(5)\n",
    "\n",
    "# \"Benachrichtigungen aktivieren\" umgehen\n",
    "try:\n",
    "    # Das Element \"Jetzt nicht\" suchen und klicken\n",
    "    not_now_button = driver.find_element(By.XPATH, \"//button[text()='Jetzt nicht']\")\n",
    "    not_now_button.click()\n",
    "    print(\"Benachrichtigungen wurden deaktiviert.\")\n",
    "    time.sleep(2)\n",
    "except Exception as e:\n",
    "    print(\"Kein Benachrichtigungs-Dialog oder Fehler beim Klicken:\", e)\n",
    "\n",
    "\n",
    "post = get_post_info(driver=driver, link=link)"
   ]
  },
  {
   "cell_type": "code",
   "execution_count": 39,
   "metadata": {},
   "outputs": [
    {
     "name": "stdout",
     "output_type": "stream",
     "text": [
      "{'link': 'https://www.instagram.com/p/DBI2Xb_psct/', 'caption': '\"He\\'s from Barrancas, and he plays for Liverpool...\" 🎵🇨🇴Luis Diaz on how his upbringing made him the footballer he is 👊 Read the full article on our website. Link in the bio 🔗', 'comments': ['❤️', 'Our lad from Porto 👏🔥', 'Does somebody have 2 tickets for the game in Leipzig to sell?', 'He comes to score😂', '😍😍', '🔥🔥🔥🔥🔥', 'I love him lucho ❤️', '🔥🔥🔥', '🔥🔥🔥', '🔥🔥', '❤️❤️', 'Mi Colombiano favorito 🔥🔥🔥❤️', 'Admin please edit this and add the song. It’s incomplete 😂', 'Double his wages , guys on 🔥', 'We call him lucho, he came from porto, he came to score came to score came to score. . . score. . . score. . .', 'Cook Chelsea 😈', '🔥🔥🔥🔥', '...he came to score, score, score 🎼 🎶 🎵', 'Me gustas tu Luiz Diaz👏👏👏', 'We call him Lucho 🔥🤌', '🔋❤️', 'Na na na na na🎵🎵', 'Ja la la la la ..ja la la la la 🔥🙌', 'absence', '❤️❤️❤️', 'Luis diaz button❤️🔥>>>>>>>>>', 'Admin forgot to play the song 😂', '🇨🇴🇨🇴']}\n"
     ]
    }
   ],
   "source": [
    "print(post)"
   ]
  },
  {
   "cell_type": "code",
   "execution_count": 33,
   "metadata": {},
   "outputs": [],
   "source": [
    "import json\n",
    "\n",
    "#posts = get_posts_and_comments_by_club(club='chelseafc')\n",
    "# Convert and write JSON object to file\n",
    "with open(\"data/instagram/lille_instacomments.json\", \"w\", encoding='utf-8') as outfile: \n",
    "    json.dump(posts, outfile, ensure_ascii=False)"
   ]
  },
  {
   "cell_type": "code",
   "execution_count": 299,
   "metadata": {},
   "outputs": [
    {
     "name": "stdout",
     "output_type": "stream",
     "text": [
      "12\n"
     ]
    }
   ],
   "source": [
    "print(len(posts))"
   ]
  },
  {
   "cell_type": "markdown",
   "metadata": {},
   "source": [
    "# Twitter"
   ]
  },
  {
   "cell_type": "code",
   "execution_count": 12,
   "metadata": {},
   "outputs": [],
   "source": [
    "def login_with_cookies(driver):\n",
    "    # Twitter öffnen\n",
    "    driver.get(\"https://x.com/\")\n",
    "    time.sleep(3)\n",
    "\n",
    "    # Cookies aus der JSON-Datei laden\n",
    "    with open('cookies/twitter-cookies.json', 'r') as cookies_file:\n",
    "        cookies = json.load(cookies_file)\n",
    "\n",
    "    # Cookies in den Browser laden\n",
    "    for cookie in cookies:\n",
    "        # Passe das Cookie an, falls es Probleme gibt (z. B. Domain anpassen)\n",
    "        if 'sameSite' in cookie:\n",
    "            del cookie['sameSite']  # Selenium unterstützt nicht alle Cookie-Attribute\n",
    "        driver.add_cookie(cookie)\n",
    "\n",
    "    # Seite aktualisieren, um die Cookies anzuwenden und als eingeloggter Nutzer zu interagieren\n",
    "    driver.get(\"https://x.com\")\n",
    "    time.sleep(3)"
   ]
  },
  {
   "cell_type": "code",
   "execution_count": 13,
   "metadata": {},
   "outputs": [],
   "source": [
    "def get_comments_by_club(driver, club):\n",
    "\n",
    "    #Vereinsprofil öffnen\n",
    "    driver.get(f\"https://x.com/{club}\")\n",
    "    time.sleep(3)\n",
    "\n",
    "    \n"
   ]
  },
  {
   "cell_type": "code",
   "execution_count": 23,
   "metadata": {},
   "outputs": [],
   "source": [
    "def get_tweets_by_hashtag(driver, hashtag):\n",
    "\n",
    "    #Tweets mit Hashtag laden\n",
    "    driver.get(f\"https://x.com/search?q=%23{hashtag}&src=typed_query&f=live\")\n",
    "    time.sleep(3)\n",
    "    tweet_data = []\n",
    "\n",
    "    # Scrollen, um mehr Tweets zu laden\n",
    "    for i in range(25):  # Passe die Anzahl der Scrolls nach Bedarf an\n",
    "\n",
    "        # Warte, bis die Tweets geladen sind (alle article-Elemente mit role='article')\n",
    "        wait = WebDriverWait(driver, 10)\n",
    "        tweets = wait.until(EC.presence_of_all_elements_located((By.XPATH, '//article[@role=\"article\"]')))\n",
    "\n",
    "\n",
    "        # Schleife durch die gefundenen Tweets und extrahiere den Text\n",
    "        for tweet in tweets:\n",
    "            try:\n",
    "                tweet_text = tweet.find_element(By.XPATH, './/div[@lang]').text  # Der Haupttext eines Tweets\n",
    "                tweet_data.append(tweet_text.replace('\\n', ''))\n",
    "            except Exception as e:\n",
    "                print(\"Fehler beim Extrahieren eines Tweets:\", e)\n",
    "\n",
    "        driver.execute_script(\"window.scrollTo(0, document.body.scrollHeight);\")\n",
    "        time.sleep(random.randint(4, 11)) # putting some sleep time between every loop\n",
    "\n",
    "    data = {\n",
    "        'hashtag': hashtag,\n",
    "        'tweets': tweet_data\n",
    "    }\n",
    "    return data\n",
    "\n"
   ]
  },
  {
   "cell_type": "code",
   "execution_count": 28,
   "metadata": {},
   "outputs": [],
   "source": [
    "def get_tweets_by_name(driver, name):\n",
    "    player_name = name.replace(' ', '%20')\n",
    "    #Tweets mit Hashtag laden\n",
    "    driver.get(f'https://x.com/search?q=\"{player_name}\"&src=typed_query&f=live')\n",
    "    time.sleep(3)\n",
    "    tweet_data = []\n",
    "\n",
    "    # Scrollen, um mehr Tweets zu laden\n",
    "    for i in range(25):  # Passe die Anzahl der Scrolls nach Bedarf an\n",
    "\n",
    "        # Warte, bis die Tweets geladen sind (alle article-Elemente mit role='article')\n",
    "        wait = WebDriverWait(driver, 10)\n",
    "        tweets = wait.until(EC.presence_of_all_elements_located((By.XPATH, '//article[@role=\"article\"]')))\n",
    "\n",
    "\n",
    "        # Schleife durch die gefundenen Tweets und extrahiere den Text\n",
    "        for tweet in tweets:\n",
    "            try:\n",
    "                tweet_text = tweet.find_element(By.XPATH, './/div[@lang]').text  # Der Haupttext eines Tweets\n",
    "                tweet_data.append(tweet_text.replace('\\n', ''))\n",
    "            except Exception as e:\n",
    "                print(\"Fehler beim Extrahieren eines Tweets:\", e)\n",
    "\n",
    "        driver.execute_script(\"window.scrollTo(0, document.body.scrollHeight);\")\n",
    "        time.sleep(random.randint(4, 11)) # putting some sleep time between every loop\n",
    "\n",
    "    data = {\n",
    "        'name': name,\n",
    "        'tweets': tweet_data\n",
    "    }\n",
    "    return data"
   ]
  },
  {
   "cell_type": "code",
   "execution_count": 24,
   "metadata": {},
   "outputs": [],
   "source": [
    "driver = webdriver.Chrome()\n",
    "\n",
    "login_with_cookies(driver=driver)\n",
    "#get_comments_by_club(driver=driver, club='VfB')\n",
    "tweets = get_tweets_by_hashtag(driver=driver, hashtag='CFC')\n",
    "\n",
    "driver.quit()"
   ]
  },
  {
   "cell_type": "code",
   "execution_count": 29,
   "metadata": {},
   "outputs": [
    {
     "name": "stdout",
     "output_type": "stream",
     "text": [
      "Fehler beim Extrahieren eines Tweets: Message: no such element: Unable to locate element: {\"method\":\"xpath\",\"selector\":\".//div[@lang]\"}\n",
      "  (Session info: chrome=129.0.6668.72); For documentation on this error, please visit: https://www.selenium.dev/documentation/webdriver/troubleshooting/errors#no-such-element-exception\n",
      "Stacktrace:\n",
      "0   chromedriver                        0x0000000102f6bed4 cxxbridge1$str$ptr + 1906348\n",
      "1   chromedriver                        0x0000000102f64344 cxxbridge1$str$ptr + 1874716\n",
      "2   chromedriver                        0x0000000102b78264 cxxbridge1$string$len + 89492\n",
      "3   chromedriver                        0x0000000102bbc514 cxxbridge1$string$len + 368708\n",
      "4   chromedriver                        0x0000000102bb2ad8 cxxbridge1$string$len + 329224\n",
      "5   chromedriver                        0x0000000102bf67d4 cxxbridge1$string$len + 606980\n",
      "6   chromedriver                        0x0000000102bb1134 cxxbridge1$string$len + 322660\n",
      "7   chromedriver                        0x0000000102bb1d84 cxxbridge1$string$len + 325812\n",
      "8   chromedriver                        0x0000000102f33f90 cxxbridge1$str$ptr + 1677160\n",
      "9   chromedriver                        0x0000000102f388fc cxxbridge1$str$ptr + 1695956\n",
      "10  chromedriver                        0x0000000102f194b8 cxxbridge1$str$ptr + 1567888\n",
      "11  chromedriver                        0x0000000102f391cc cxxbridge1$str$ptr + 1698212\n",
      "12  chromedriver                        0x0000000102f0aa60 cxxbridge1$str$ptr + 1507896\n",
      "13  chromedriver                        0x0000000102f55214 cxxbridge1$str$ptr + 1812972\n",
      "14  chromedriver                        0x0000000102f5536c cxxbridge1$str$ptr + 1813316\n",
      "15  chromedriver                        0x0000000102f63fe4 cxxbridge1$str$ptr + 1873852\n",
      "16  libsystem_pthread.dylib             0x00000001819232e4 _pthread_start + 136\n",
      "17  libsystem_pthread.dylib             0x000000018191e0fc thread_start + 8\n",
      "\n"
     ]
    }
   ],
   "source": [
    "driver = webdriver.Chrome()\n",
    "\n",
    "login_with_cookies(driver=driver)\n",
    "#get_comments_by_club(driver=driver, club='VfB')\n",
    "tweets_by_name = get_tweets_by_name(driver=driver, name='Cole Palmer')\n",
    "\n",
    "driver.quit()"
   ]
  },
  {
   "cell_type": "code",
   "execution_count": 269,
   "metadata": {},
   "outputs": [
    {
     "name": "stdout",
     "output_type": "stream",
     "text": [
      "{'name': 'Jamie Leweling', 'tweets': ['Wie Jamie Leweling auf der Außenbahn überzeugt #VfB #Statistik', ' Jamie Leweling vs Real Madrid was simply brilliant last week!A player to watch : @JxckzLFC', 'Jamie Leweling vs Real Madrid 17/9/2024', 'Jamie Leweling: \"Wir waren eine Topmannschaft, wir sind eine Topmannschaft und wir werden weiter eine sein.\"', 'Jamie Leweling against Dortmund90mins played Touches 51Recoveries 6Passes into final third 4Accurate Passes 24/29(83%)Accurate crosses 3/5(60%)Bridget Otoo|Akuffo Addo|Thomas Partey|Xavi', 'Jamie #Leweling hat beim #VfB den nächsten Entwicklungsschritt gemacht.', 'Jamie wird links spielen', '[VIDEO] – BLACK STARS  COACH OTTO ADDO TURNS ATTENTION TO JAMIE LEWELING WHO ASSISTED A GOAL VS REAL MADRID', 'Wieviele Tore macht jamie leweling heute für mein kickbase team', \"VfB Stuttgart coach Sebastian HoeneÃ\\x9f praises Ghanaian winger Jamie Leweling's form http://dlvr.it/TDVBVZ\", 'jamie leweling', 'Mein #VfB MOTM im Spiel #RMAVfB Jamie Leweling [23 Jahre |  | RF/LF]90 gespielte Minuten 55 Ballkontakte1 Vorlage  84% Passquote (26/31)3 Key Passes 4 Schüsse aufs Tor  Überragendes Spiel von ', 'ayrıca stuttgartta angelo stiller ve jamie leweling de mükemmel oyuncular. büyük takım yaparlar diye düşünüyorum.', \" Jamie #Leweling s'est illustré contre le Real avec une note global de 2.23.\", 'Ghanaian Jamie Leweling provides assist in Stuttgart’s painful defeat at Madrid', '\"Es ist so verdient! Der VfB nutzt einen Eckball zum Ausgleich. Jamie Leweling zieht den Ball durch den Strafraum auf den Pfosten, Deniz Undav steht da, wo ein Deniz Undav steht und köpft ein. Ausgleich! Für den VfB! Im Bernabeu!\"Deniz Undav, döp döp dödöp', 'Es wird zu wenig über Jamie Leweling geredet', '[VIDEO] – Ghanaian Jamie Leweling Makes UCL Debut Vs Real Madrid + Dede Ayew Is My Idol – Black Stars Player', 'Jamie Leweling  against Real Madrid  90mins played  1 assist  Touches 55 Touches in opposition box 6 Recoveries 5 Total shots 5Shot Accuracy 4/4(100%)', '#VfB Also was Jamie Leweling aktuell macht ist wirklich top top. Heute wieder ein top Spiel. Absolute Pferdelunge.', 'Jamie Leweling vs Real Madrid Match Report, @ChampionsLeague#RMAVfB || #UCL', 'Selbstbewusst auf Augenhöhe mit den Größten Europas!  Jamie Leweling nach Stuttgarts starkem Auftritt gegen Real Madrid.  #SkySport #UCL #VfB', ' Jamie Leweling who got his first Black Star Call Up in 2020 by Coach CK Akonnor when he was a 19-year old playing in the 2.Bundesliga with Greuther Furth provided an assist for Stuttgart against Real Madrid in the Champions League.', ' Jamie Leweling vs Real Madrid  European Debut 8.1 @FotMob rating 7.8 @SofascoreINT rating 97 minutes played  1 assist 1 big chance created  27/31 accurate passes (87%) 3 key passes ', 'Remember Jamie Leweling? CK Akonnor called him up for the  Black Stars in 2020 when he was a 19-year old playing in the 2.Bundesliga with Greuther Furth Tonight, he’s just provided an assist for Stuttgart against Real Madrid in the Champions League.', '67\\'2\": #RealMadrid 1-1 Stuttgart. Gol de Deniz Undav (Stuttgart). Asistencia de Jamie Leweling', 'Assist: Jamie Leweling.', 'DENIZ UNDAV DRAWS LEVEL AGAINST REAL MADRID WITH A GREAT HEADER ON HIS CHAMPIONS LEAGUE DEBUT!!!JAMIE LEWELING WITH A GREAT ASSIST!!!#UCL #ChampionsLeague', ' Pause im Santiago Bernabéu. Der VfB präsentiert sich in Hälfte eins gegen Real Madrid mutig und hätte durch die Chancen von Jamie #Leweling und Deniz #Undav durchaus in Führung gehen können. Aber auch Real erspielt sich gute Chancen – die Defensivreihe aus Cannstatt bleibt', '„Ein heißes Duell: Jamie Leweling gegen Vini Jr“Kann man sich den Satz einrahmen lassen?#VfB', 'Just a heads up to my Madrid mutuals: Pretty decent chance you are going to hate Deniz Undav and Jamie Leveling by the end of the match. Two of the biggest jackasses in all of football today.', 'Jamie #Leweling probiert es aus der zweiten Reihe - Courtois zur Ecke. Wir sind gut drin im Spiel!!#VfB | #StuttgartInternational | #UCL | #RMAVfB 0:0 (12.)', 'We’re not the ones leveling entire cities, intentionally targeting hospitals and journalists, and literally raping people to death in internment camps (then organizing angry mobs to free the rapists when a prosecutor dares to do something about it), but ok.', 'Es wird schnell gefährlich! Jamie #Leweling kommt im Strafraum zum Abschluss, Courtois hält!#VfB | #StuttgartInternational | #UCL | #RMAVfB 0:0 (3.)', 'Jamie Leweling in der S11 gegen Real Madrid. Jetzt kann ich glücklich sterben', 'Letztes Jahr um diese Zeit rum spielte der #fcunion, Stammverein vom verliehenen Jamie Leweling, schon CL in Madrid - und diese Saison steht Jamie mit seinem #VfB Stuttgart im Santiago Bernabeu in der Startelf! #ExKleeblatt', 'Wer mir sonst noch bisschen untergeht wer aber die letzten 2 Spiele top war ist Jamie Leweling offensiv großen Impact gehabt und defensiv auch überragend immer wach gewesen immer bissig in den Zweikämpfen gewesen tolle Entwicklung die er genommen hat #VfB', 'Welcome back, Daxo! Dan-Axel #Zagadou kommt für Jamie #Leweling ins Spiel.#BMGVfB 1:3 (83.) | #VfB', 'TOOOOOR für den VfB! So wichtig! Deniz Undav nutzt einen Abpraller nach einem Schuss von Jamie Leweling zum 1:0![Anzeige] Aqua Römer | #BMGVfB 0:1 (21.) | #VfB', 'TOOOOOR für den VfB! So wichtig! Deniz Undav nutzt einen Abpraller nach einem Schuss von Jamie Leweling zum 1:0!', 'Der VfB gewinnt das Testspiel gegen den 1. FC Kaiserslautern souverän mit 4:1. In der zweiten Hälfte treffen Jamie #Leweling per Elfmeter sowie Doppelpacker Leo #Münst! Gut gemacht, Männer! #VfB | #VfBFCK 4:1', 'Nach Foul an den eingewechselten Leonhard #Münst zeigt Schiedsrichter Martin Petersen auf den Punkt. Jamie #Leweling verwandelt sicher - 2:0 nach 67 Minuten #VfB | #VfBStuttgart | #VfBFCK', '70. | 2:0 | Avdo Spahic foult im eigenen Strafraum Leonhard Münst, Schiedsrichter Martin Petersen zeigt sofort auf den Punkt - Elfmeter für den VfB. Jamie Leweling legt sich das Leder zurecht und verwandelt sicher zum 2:0.#Betze #VFBFCK', 'Führung, 35. Minute, 1:0. Jamie #Leweling zieht über die linke Seite in den Strafraum, legt quer - Pascal #Stenzel bleibt cool und überwindet FCK-Keeper Spahic. Schöne Aktion!#VfB | #VfBStuttgart | #VfBFCK', ' Grüße vom Stuttgarter Weindorf.  Aktuell erwarten euch die #VfB Profis Jamie #Leweling und Yannik #Keitel in Laube 38 am Marktplatz. Schaut gerne vorbei! #VfB | #Weindorf2024', ' Kleiner Reminder: Heute Abend (ab 18:30 Uhr) begrüßen euch VfB Vorstandsvorsitzender Alexander #Wehrle, Vorstand Sport Fabian #Wohlgemuth sowie Vorstand Marketing und Vertrieb Rouven #Kasper gemeinsam mit den VfB Profis Jamie #Leweling und Yannik #Keitel auf dem Stuttgarter', 'Jamie Leweling Lucas Ocampos', '1.ENZO MILLOT (2002) OPENED THE SCORING!2.JAMIE LEWELING DOUBLED THE LEAD WITH A GREAT FINISH!!!ALEXANDER NÜBEL WITH A GREAT BALL OVER THE TOP FOR THE ASSIST!!!3.SUPER SUB FABIAN RIEDER (2002) RETOOK THE LEAD WITH A FREE-KICK GOLAZO!!!', 'Remis gegen Mainz 05: Der VfB muss nach einer umkämpften und bis zum Schluss spannenden Partie ein 3:3-Unentschieden gegen den 1. FSV Mainz 05 hinnehmen. Im Brustring-Trikot treffen Enzo #Millot (8.), Jamie #Leweling (15.) und Fabian #Rieder (88.).Unser Spielbericht:', \"TREMENDO PARTIDAZO Stuttgart 3-3 Mainz 05Enzo Millot 8' (1-0) Jamie Leweling 15' (2-0) Nadiem Amiri 43' (2-1) Jonathan Burkardt 62' (2-2) Fabian Rieder 88' (3-2) Maxim Leitsch 90+4' (3-3) \", \"Werder Bremen 0 Borussia Dortmund 0, Stuttgart 3 (Enzo Millot 8' Jamie Leweling 15' Fabian Rieder 88') Mainz 3 (Nadiem Amiri 43' Jonathan Burkhardt 61' Maxim Leitsch 90+4'), Bochum 0 Borussia Mönchengladbach 2 (Tim Kleindienst 66' Franck Honorat 88')\", 'Nach 90+ 7 (97:17 Minuten) spielt VfB Stuttgart, nur 3:3 den 1. FSV Mainz 05. Tore: 1:0 Enzo Millot (* 7), 2:0 Jamie Leweling (* 14), 2:1 Nadiem Amiri (* 42 - Elfer), 2:2 Jonathan Burkardt (* 60), 3:2 Fabian Rieder (* 87) & 3;3 Maxim Leitsch (* 90+ 3). #VfBM05', ' Zwei Wechsel für die Offensive: Ermedin #Demirovic kommt für Deniz #Undav und auch El Bilal #Touré ist ab sofort für Jamie #Leweling dabei.#VfB #VfBM05 2:2 (74.)', 'Jamie #Leweling lauert nach einer Hereingabe von Maxi #Mittelstädt am zweiten Pfosten und prüft Robin Zentner. Weiter, Jungs!#VfB #VfBM05 2:2 (65.)', 'Klasse gehalten von Robin Zentner, den Versuch von Jamie Leweling. #VfBM05', ' Goals from @EnzoMillot and Jamie #Leweling have us 2-1 up at the break. #VfB | #VfBM05 | 2-1', 'Halbzeit 1 im Kasten.  Wir führen verdient mit 2:1.  Die Tore für den VfB erzielen Enzo #Millot (8.) und Jamie #Leweling (15.); Mainz verkürzt kurz vor der Pause durch einen verwandelten Elfmeter (Amiri, 43.).In der zweiten Hälfte weiter alles reinwerfen, Männer!!  #VfB', 'Nach 45+ 3 (48:20 Minuten) geht der VfB Stuttgart, mit einer 2:1 Führung gegen den 1. FSV Mainz 05, in die Halbzeit-Pause... Tore: 1:0 Enzo Millot (* 7 Minute), 2:0 Jamie Leweling (* 14 Minute) & 2:1 Nadiem Amiri (* 42 Minute - Elfmeter)... #VfBM05 #Bundesliga', \"Gooaall!14:48Bala Town 1 (Kieran Lloyd 18')Penybont 0Gooaall!14:47VfB Stuttgart 2 (Jamie Leweling 15')1. FSV Mainz 05 0Gooaall!14:44Briton Ferry 1Connah's Quay Nomads 1 (Lifumpa Mwandwe 14')\", 'Jamie Leweling makes it 2-0 for Stuttgard! #stuttgard #leweling #mainz #bundesliga #football', 'Jamie Leweling le rompe el arco a Zentner y ahora la ventaja para la visita es de dos goles .Stuttgart 2-0 Mainz 05.https://x.com/FPiotr12574/status/1829878981673566298/video/1…', \" Stuttgart 2-0 Mainz - Jamie Leweling 15'https://goals.zone/vfb-stuttgart-1-fsv-mainz-05-20240831?v=1f5nosb…#SofaScore #VFB #M05\", 'Jamie Leweling!!!!  #ExKleeblatt', 'Tooooooooor für den VfB! Jamie #Leweling schweißt den Ball an Zentner vorbei unter die Latte! Jaaaaaaaaaa!#VfB #VfBM05 2:0 (15.)', 'GOAL! Stuttgart 2-0 Mainz (15 Jamie Leweling)', 'Was hat Jamie Leweling gegen Sebastian H. in der Hand?', '~ @VfB ~ALTAS Jamie Leweling (Unión Berlín), Jeff Chabot (Colonia), Anthony Rouault (Toulouse), Leonidas Stergiou (FC St. Gallen), Fabian Rieder (Stade Rennes), Ramon Hendriks (Feyenoord), Frans Krätzig (Bayern Múnich), Yannik Keitel (SC Friburgo)++++++', 'Jamie Leweling ', 'Good morningI had a short question Will Jamie Leweling play this weekend Thank you', 'BundesligaProyección de tiros a puerta para algunos jugadores para la semana 2:•Victor Boniface (LEV) 2.5.•Johannes Eggestein (STP) 1.5.•Jamie Leweling (VFB) 1.34.#apuestasdeportivas #FreePicks #Bundesliga', '#WallpaperWednesday 𝙎𝙩𝙖𝙧𝙧𝙞𝙣𝙜: Jamie #Leweling   @ChampionsLeague | League phase draw 29 August  18:00 CEST #VfB | #UCLdraw', 'Early morning and some Diablo 4 season 5, necro build called ‘ minions leveling ‘', 'Chris Führich  Jamie Leweling    offensives 1gg1 verkacken', 'Noch nicht viel passiert im zweiten Durchgang. Dafür gibt‘s jetzt zwei weitere Wechsel beim #VfB: Jamie #Leweling und Deniz #Undav kommen für Chris #Führich und Ermedin #Demirovic.#VfB #DFBPokal #SCPVfB 0:3 (61.)', 'Hannover 96 is intressed in Jamie Leweling Jamie leweling wants to come To hannover 96 personal terms are agreed Yeon mi changed his mind after disscusion with korg', '#MyHeroAcadamia at the moment. Solo Leveling is pretty amazing to for only 12 episodes', '5.NADIEM AMIRI BROKE THE DEADLOCK WITH A FREE-KICK GOLAZO!!!4.ERMEDIN DEMIROVIĆ OPENED THE SCORING WITH A SCISSOR KICK GOLAZO!!!JAMIE LEWELING ASSIST!2.ELVIS REXHBEÇAJ DREW LEVEL WITH AN ABSOLUTE GOLAZO!!!.....Sure', 'An die Stuttgarter klärt mich bitte mal auf:Warum genau braucht ihr noch einen Stürmer?Ihr habt stand jetzt...Deniz UndavErmedin DemirovicNick WoltemadeJamie Leweling', 'meeting of baddies leveling up', ' Dreifachwechsel beim #VfB: Silas, Frans Krätzig, Deniz Undav Angelo Stiller, Maxi Mittelstädt, Jamie Leweling#VfB | #Supercup2024 | #B04VfB1:1 (62.)', 'Amine Adli vs Jamie Leweling', 'It’s so fucking disappointing to see AI being used in webcomics. Tell me why I pick up a comic to read, and after a while, I fucking realize the art was done by AI. The Solo Leveling artist who passed away has their art being used by AI, and some fool lazily drew over it.', '108 - Jamie Leweling 23 ansAilier109 - Julien Duranville 18 ansAilier110 - Badredine Bouanani 19 ansAilier111 - Benjamin Sesko ', 'Jamie leveling bei Union', 'Honorable mentions:-Armindo Sieb (HOLY COW Mainz, cant wait to get him back)-Arijon Ibrahimovic-Jamie Leweling-Justin Njinmah-Eren Dinkci-Nicolo Tresoldi-Kevin Schade-Keke Topp', \"The American cabal wants the world to believe that Iran is targeting Donald Trump's campaign. The deception game is leveling up.\", ' Sebastian #Hoeneß wechselt ein weiteres Mal. Ermedin #Demirovic, Jamie #Leweling und Atakan #Karazor machen Platz für Nick #Woltemade, Wooyeong #Jeong und Yannik #Keitel.#VfB | #VfBATH 3:0 (74.)', 'Chris #Führich und Jamie #Leweling tanken sich über die linke Seite in die Gefahrenzone. Am Ende schließt Ermedin #Demirovic ab, zielt aber knapp über das Tor der Gäste. #VfB | #VfBATH 3:0 (67.)', 'An der Stelle ein Fakt zum Abend: Jamie Leweling ist der Geilste! #VfB', 'Kobel > NübelCouto > VagnomanSchlotti > ChabotAnton> wer auch immer Bense< MittelstädtCan< KarazorGroß > stiller Gittens> FührichBrandt < UndavMalen > Leweling', 'Weil der Klügere nachgibt  Jamie Leweling ist besser als JBG und Messi Prime du hast gewonnen', 'Nice! Getting home from vacation today. Looking forward to jump on. Rolling Barb, do you have leveling and endgame builds posted online yet?', 'Mein üppig bekurvter Jamie Leweling*', 'Wo ist mein Jamie Leweling', 'Chris #Führich und Jamie #Leweling tanken sich über die linke Seite in die Gefahrenzone. Am Ende schließt Ermedin #Demirovic ab, zielt aber knapp über das Tor der Gäste. #VfB | #VfBATH 3:0 (67.)', 'An der Stelle ein Fakt zum Abend: Jamie Leweling ist der Geilste! #VfB', 'Kobel > NübelCouto > VagnomanSchlotti > ChabotAnton> wer auch immer Bense< MittelstädtCan< KarazorGroß > stiller Gittens> FührichBrandt < UndavMalen > Leweling', 'Weil der Klügere nachgibt  Jamie Leweling ist besser als JBG und Messi Prime du hast gewonnen', 'Nice! Getting home from vacation today. Looking forward to jump on. Rolling Barb, do you have leveling and endgame builds posted online yet?', 'Mein üppig bekurvter Jamie Leweling*', 'Wo ist mein Jamie Leweling', \"Vente de Jamie Leweling, sur qui je ne comptais déja pas beaucoup l'année dernière, et qui avait encore reculé dans la rotation avec l'arrivée de Noa Lang\", 'Also ich habe bisschen gesoffen aber es ist einfach. Pierre ist die BambusLaterne Akte Kounde ist Kounde im DC Und Jamie Leweling ist BambusLaterne', '', 'Solo leveling like a video game reference?I saw it’s a manga and anime.', 'Leveling expectations about what AI can do now today. Will it take your job? Listen to this conversation with Nazmul Ahmed and Jamie Shanks on Outsource for Profits. #ai #FutureofWork #jobdisplacement #aijobs', 'demirovic muss auch doppelspitze spielen mit jemandem der nicht jamie leweling ist', 'Toooor für unseren VfB! Angelo #Stiller schiebt nach schöner Vorarbeit von Jamie #Leweling überlegt zum 1:0 aus kurzer Distanz ein.#VfB | #SFRVfB 0:1 (17.) | #PeaceMatch | #VfBinJapan', 'There\\'s always going to be some individualism in Western people, and that can be healthy. But we need a \"do unto others\" caveat, too. If they approach under the aegis or declaring a group identity, or leveling grievances against our group, treat accordingly, as a group.', 'Solo Leveling Ragnarok is here. I can’t lose today', 'Leveling up PLC w/ Leader in Me!', ' Leeds United sent a scout to watch Stuttgart Centre Forward Jamie Leweling in a friendly game against Fortuna. The German scored 1 goal and was taken off after 66 minutes. #Lufc #RedBull #leedsunited', 'Jamie Leweling, 23, Market Value: 8.3M € ', 'Goal: Jamie Leweling | Kyoto Sanga 3-2 VfB Stuttgart |  Silas Katompa Mvumpa', 'Der nächste Treffer für den VfB! Jamie #Leweling schiebt nach schöner Vorarbeit von Silas zum 2:3 ein.#VfB | #VfBinJapan | #KYOVfB 3:2 (68.)', 'Der #VfB hat gewechselt. In Hälfte 2 agieren: Ömer #Beyaz, Jamie #Leweling, Jeff #Chabot und #Silas für Ermedin #Demirovic, Ramon #Hendriks, Nick #Woltemade und Yannik #Keitel.#VfB | #KYOVfB | 3:0', 'Wie begründet sich eigentlich die radikale Wende innerhalb eines knappen halben Jahres von “Wir brauchen Transfererlöse um zu überleben. Ob wir Jamie Leweling finanzieren können, wissen wir noch nicht.” hin zu “3 Neuzugänge mit einer Ablöse von 20-30 Mio.? Kein Problem.“  #VfB', 'Leveling up Jamie....leveling up.', 'Jamie! #VfB | #Training | #Leweling', \"4/ Latest Additions To Our TeamMOON BOI STUDIOS LEVELING UP BIG TIME! We're over the moon to announce the addition of two GAMING LEGENDS to our advisory board - Jamie King, Co-Founder of @RockstarGames, and Justin Edwards, former Senior Director of Tech & Operations at\", 'Silas macht Druck auf LewelingEr galt als möglicher Wechselkandidat. Jetzt scheint Silas dieses Thema abgehakt und stattdessen den Kampf um seinen verloren gegangenen Startpatz beim VfB Stuttgart angenommen zu haben. Der Kongolese macht Druck auf Jamie…', 'Ich wenn Jamie Leweling', '𝐓𝐑𝐀𝐍𝐒𝐅𝐄𝐑𝐄̂𝐍𝐂𝐈𝐀𝐒  Chegadas László Bénes (3M) Leopold Querfeld (3M) Ivan Prtajin (1M) Alex Král (-) Livan Burcu ', 'Schlusspfiff nach 120 Minuten in Heilbronn. Wir schlagen den niederländischen Erstligisten Fortuna Sittard souverän mit 3:0. Sauber, Männer! Unsere Torschützen: #Silas (12.), Jamie #Leweling (17.) & Justin #Diehl (62.)#VfB | #VfBSIT 3:0 | Partie im Re-Live schauen:', 'Jamie Leweling, 23, Market Value: 8.3M € ', 'Goal: Jamie Leweling | Kyoto Sanga 3-2 VfB Stuttgart |  Silas Katompa Mvumpa', 'Der nächste Treffer für den VfB! Jamie #Leweling schiebt nach schöner Vorarbeit von Silas zum 2:3 ein.#VfB | #VfBinJapan | #KYOVfB 3:2 (68.)', 'Der #VfB hat gewechselt. In Hälfte 2 agieren: Ömer #Beyaz, Jamie #Leweling, Jeff #Chabot und #Silas für Ermedin #Demirovic, Ramon #Hendriks, Nick #Woltemade und Yannik #Keitel.#VfB | #KYOVfB | 3:0', 'Wie begründet sich eigentlich die radikale Wende innerhalb eines knappen halben Jahres von “Wir brauchen Transfererlöse um zu überleben. Ob wir Jamie Leweling finanzieren können, wissen wir noch nicht.” hin zu “3 Neuzugänge mit einer Ablöse von 20-30 Mio.? Kein Problem.“  #VfB', 'Leveling up Jamie....leveling up.', 'Jamie! #VfB | #Training | #Leweling', \"4/ Latest Additions To Our TeamMOON BOI STUDIOS LEVELING UP BIG TIME! We're over the moon to announce the addition of two GAMING LEGENDS to our advisory board - Jamie King, Co-Founder of @RockstarGames, and Justin Edwards, former Senior Director of Tech & Operations at\", 'Silas macht Druck auf LewelingEr galt als möglicher Wechselkandidat. Jetzt scheint Silas dieses Thema abgehakt und stattdessen den Kampf um seinen verloren gegangenen Startpatz beim VfB Stuttgart angenommen zu haben. Der Kongolese macht Druck auf Jamie…', 'Ich wenn Jamie Leweling', '𝐓𝐑𝐀𝐍𝐒𝐅𝐄𝐑𝐄̂𝐍𝐂𝐈𝐀𝐒  Chegadas László Bénes (3M) Leopold Querfeld (3M) Ivan Prtajin (1M) Alex Král (-) Livan Burcu ', 'Schlusspfiff nach 120 Minuten in Heilbronn. Wir schlagen den niederländischen Erstligisten Fortuna Sittard souverän mit 3:0. Sauber, Männer! Unsere Torschützen: #Silas (12.), Jamie #Leweling (17.) & Justin #Diehl (62.)#VfB | #VfBSIT 3:0 | Partie im Re-Live schauen:', 'Jamie Leweling, 23, Market Value: 8.3M € ', 'Goal: Jamie Leweling | Kyoto Sanga 3-2 VfB Stuttgart |  Silas Katompa Mvumpa', 'Der nächste Treffer für den VfB! Jamie #Leweling schiebt nach schöner Vorarbeit von Silas zum 2:3 ein.#VfB | #VfBinJapan | #KYOVfB 3:2 (68.)', 'Der #VfB hat gewechselt. In Hälfte 2 agieren: Ömer #Beyaz, Jamie #Leweling, Jeff #Chabot und #Silas für Ermedin #Demirovic, Ramon #Hendriks, Nick #Woltemade und Yannik #Keitel.#VfB | #KYOVfB | 3:0', 'Wie begründet sich eigentlich die radikale Wende innerhalb eines knappen halben Jahres von “Wir brauchen Transfererlöse um zu überleben. Ob wir Jamie Leweling finanzieren können, wissen wir noch nicht.” hin zu “3 Neuzugänge mit einer Ablöse von 20-30 Mio.? Kein Problem.“  #VfB', 'Leveling up Jamie....leveling up.', 'Jamie! #VfB | #Training | #Leweling', \"4/ Latest Additions To Our TeamMOON BOI STUDIOS LEVELING UP BIG TIME! We're over the moon to announce the addition of two GAMING LEGENDS to our advisory board - Jamie King, Co-Founder of @RockstarGames, and Justin Edwards, former Senior Director of Tech & Operations at\", 'Silas macht Druck auf LewelingEr galt als möglicher Wechselkandidat. Jetzt scheint Silas dieses Thema abgehakt und stattdessen den Kampf um seinen verloren gegangenen Startpatz beim VfB Stuttgart angenommen zu haben. Der Kongolese macht Druck auf Jamie…', 'Ich wenn Jamie Leweling', '𝐓𝐑𝐀𝐍𝐒𝐅𝐄𝐑𝐄̂𝐍𝐂𝐈𝐀𝐒  Chegadas László Bénes (3M) Leopold Querfeld (3M) Ivan Prtajin (1M) Alex Král (-) Livan Burcu ', 'Schlusspfiff nach 120 Minuten in Heilbronn. Wir schlagen den niederländischen Erstligisten Fortuna Sittard souverän mit 3:0. Sauber, Männer! Unsere Torschützen: #Silas (12.), Jamie #Leweling (17.) & Justin #Diehl (62.)#VfB | #VfBSIT 3:0 | Partie im Re-Live schauen:', 'Jamie Leweling, 23, Market Value: 8.3M € ', 'Goal: Jamie Leweling | Kyoto Sanga 3-2 VfB Stuttgart |  Silas Katompa Mvumpa', 'Der nächste Treffer für den VfB! Jamie #Leweling schiebt nach schöner Vorarbeit von Silas zum 2:3 ein.#VfB | #VfBinJapan | #KYOVfB 3:2 (68.)', 'Der #VfB hat gewechselt. In Hälfte 2 agieren: Ömer #Beyaz, Jamie #Leweling, Jeff #Chabot und #Silas für Ermedin #Demirovic, Ramon #Hendriks, Nick #Woltemade und Yannik #Keitel.#VfB | #KYOVfB | 3:0', 'Wie begründet sich eigentlich die radikale Wende innerhalb eines knappen halben Jahres von “Wir brauchen Transfererlöse um zu überleben. Ob wir Jamie Leweling finanzieren können, wissen wir noch nicht.” hin zu “3 Neuzugänge mit einer Ablöse von 20-30 Mio.? Kein Problem.“  #VfB', 'Leveling up Jamie....leveling up.', 'Jamie! #VfB | #Training | #Leweling', \"4/ Latest Additions To Our TeamMOON BOI STUDIOS LEVELING UP BIG TIME! We're over the moon to announce the addition of two GAMING LEGENDS to our advisory board - Jamie King, Co-Founder of @RockstarGames, and Justin Edwards, former Senior Director of Tech & Operations at\", 'Silas macht Druck auf LewelingEr galt als möglicher Wechselkandidat. Jetzt scheint Silas dieses Thema abgehakt und stattdessen den Kampf um seinen verloren gegangenen Startpatz beim VfB Stuttgart angenommen zu haben. Der Kongolese macht Druck auf Jamie…', 'Ich wenn Jamie Leweling', '𝐓𝐑𝐀𝐍𝐒𝐅𝐄𝐑𝐄̂𝐍𝐂𝐈𝐀𝐒  Chegadas László Bénes (3M) Leopold Querfeld (3M) Ivan Prtajin (1M) Alex Král (-) Livan Burcu ', 'Schlusspfiff nach 120 Minuten in Heilbronn. Wir schlagen den niederländischen Erstligisten Fortuna Sittard souverän mit 3:0. Sauber, Männer! Unsere Torschützen: #Silas (12.), Jamie #Leweling (17.) & Justin #Diehl (62.)#VfB | #VfBSIT 3:0 | Partie im Re-Live schauen:', 'Jamie Leweling, 23, Market Value: 8.3M € ', 'Goal: Jamie Leweling | Kyoto Sanga 3-2 VfB Stuttgart |  Silas Katompa Mvumpa', 'Der nächste Treffer für den VfB! Jamie #Leweling schiebt nach schöner Vorarbeit von Silas zum 2:3 ein.#VfB | #VfBinJapan | #KYOVfB 3:2 (68.)', 'Der #VfB hat gewechselt. In Hälfte 2 agieren: Ömer #Beyaz, Jamie #Leweling, Jeff #Chabot und #Silas für Ermedin #Demirovic, Ramon #Hendriks, Nick #Woltemade und Yannik #Keitel.#VfB | #KYOVfB | 3:0', 'Wie begründet sich eigentlich die radikale Wende innerhalb eines knappen halben Jahres von “Wir brauchen Transfererlöse um zu überleben. Ob wir Jamie Leweling finanzieren können, wissen wir noch nicht.” hin zu “3 Neuzugänge mit einer Ablöse von 20-30 Mio.? Kein Problem.“  #VfB', 'Leveling up Jamie....leveling up.', 'Jamie! #VfB | #Training | #Leweling', \"4/ Latest Additions To Our TeamMOON BOI STUDIOS LEVELING UP BIG TIME! We're over the moon to announce the addition of two GAMING LEGENDS to our advisory board - Jamie King, Co-Founder of @RockstarGames, and Justin Edwards, former Senior Director of Tech & Operations at\", 'Silas macht Druck auf LewelingEr galt als möglicher Wechselkandidat. Jetzt scheint Silas dieses Thema abgehakt und stattdessen den Kampf um seinen verloren gegangenen Startpatz beim VfB Stuttgart angenommen zu haben. Der Kongolese macht Druck auf Jamie…', 'Ich wenn Jamie Leweling', '𝐓𝐑𝐀𝐍𝐒𝐅𝐄𝐑𝐄̂𝐍𝐂𝐈𝐀𝐒  Chegadas László Bénes (3M) Leopold Querfeld (3M) Ivan Prtajin (1M) Alex Král (-) Livan Burcu ', 'Schlusspfiff nach 120 Minuten in Heilbronn. Wir schlagen den niederländischen Erstligisten Fortuna Sittard souverän mit 3:0. Sauber, Männer! Unsere Torschützen: #Silas (12.), Jamie #Leweling (17.) & Justin #Diehl (62.)#VfB | #VfBSIT 3:0 | Partie im Re-Live schauen:', 'Jamie Leweling, 23, Market Value: 8.3M € ', 'Goal: Jamie Leweling | Kyoto Sanga 3-2 VfB Stuttgart |  Silas Katompa Mvumpa', 'Der nächste Treffer für den VfB! Jamie #Leweling schiebt nach schöner Vorarbeit von Silas zum 2:3 ein.#VfB | #VfBinJapan | #KYOVfB 3:2 (68.)', 'Der #VfB hat gewechselt. In Hälfte 2 agieren: Ömer #Beyaz, Jamie #Leweling, Jeff #Chabot und #Silas für Ermedin #Demirovic, Ramon #Hendriks, Nick #Woltemade und Yannik #Keitel.#VfB | #KYOVfB | 3:0', 'Wie begründet sich eigentlich die radikale Wende innerhalb eines knappen halben Jahres von “Wir brauchen Transfererlöse um zu überleben. Ob wir Jamie Leweling finanzieren können, wissen wir noch nicht.” hin zu “3 Neuzugänge mit einer Ablöse von 20-30 Mio.? Kein Problem.“  #VfB', 'Leveling up Jamie....leveling up.', 'Jamie! #VfB | #Training | #Leweling', \"4/ Latest Additions To Our TeamMOON BOI STUDIOS LEVELING UP BIG TIME! We're over the moon to announce the addition of two GAMING LEGENDS to our advisory board - Jamie King, Co-Founder of @RockstarGames, and Justin Edwards, former Senior Director of Tech & Operations at\", 'Silas macht Druck auf LewelingEr galt als möglicher Wechselkandidat. Jetzt scheint Silas dieses Thema abgehakt und stattdessen den Kampf um seinen verloren gegangenen Startpatz beim VfB Stuttgart angenommen zu haben. Der Kongolese macht Druck auf Jamie…', 'Ich wenn Jamie Leweling', '𝐓𝐑𝐀𝐍𝐒𝐅𝐄𝐑𝐄̂𝐍𝐂𝐈𝐀𝐒  Chegadas László Bénes (3M) Leopold Querfeld (3M) Ivan Prtajin (1M) Alex Král (-) Livan Burcu ', 'Schlusspfiff nach 120 Minuten in Heilbronn. Wir schlagen den niederländischen Erstligisten Fortuna Sittard souverän mit 3:0. Sauber, Männer! Unsere Torschützen: #Silas (12.), Jamie #Leweling (17.) & Justin #Diehl (62.)#VfB | #VfBSIT 3:0 | Partie im Re-Live schauen:', 'Jamie Leweling, 23, Market Value: 8.3M € ', 'Goal: Jamie Leweling | Kyoto Sanga 3-2 VfB Stuttgart |  Silas Katompa Mvumpa', 'Der nächste Treffer für den VfB! Jamie #Leweling schiebt nach schöner Vorarbeit von Silas zum 2:3 ein.#VfB | #VfBinJapan | #KYOVfB 3:2 (68.)', 'Der #VfB hat gewechselt. In Hälfte 2 agieren: Ömer #Beyaz, Jamie #Leweling, Jeff #Chabot und #Silas für Ermedin #Demirovic, Ramon #Hendriks, Nick #Woltemade und Yannik #Keitel.#VfB | #KYOVfB | 3:0', 'Wie begründet sich eigentlich die radikale Wende innerhalb eines knappen halben Jahres von “Wir brauchen Transfererlöse um zu überleben. Ob wir Jamie Leweling finanzieren können, wissen wir noch nicht.” hin zu “3 Neuzugänge mit einer Ablöse von 20-30 Mio.? Kein Problem.“  #VfB', 'Leveling up Jamie....leveling up.', 'Jamie! #VfB | #Training | #Leweling', \"4/ Latest Additions To Our TeamMOON BOI STUDIOS LEVELING UP BIG TIME! We're over the moon to announce the addition of two GAMING LEGENDS to our advisory board - Jamie King, Co-Founder of @RockstarGames, and Justin Edwards, former Senior Director of Tech & Operations at\", 'Silas macht Druck auf LewelingEr galt als möglicher Wechselkandidat. Jetzt scheint Silas dieses Thema abgehakt und stattdessen den Kampf um seinen verloren gegangenen Startpatz beim VfB Stuttgart angenommen zu haben. Der Kongolese macht Druck auf Jamie…', 'Ich wenn Jamie Leweling', '𝐓𝐑𝐀𝐍𝐒𝐅𝐄𝐑𝐄̂𝐍𝐂𝐈𝐀𝐒  Chegadas László Bénes (3M) Leopold Querfeld (3M) Ivan Prtajin (1M) Alex Král (-) Livan Burcu ', 'Schlusspfiff nach 120 Minuten in Heilbronn. Wir schlagen den niederländischen Erstligisten Fortuna Sittard souverän mit 3:0. Sauber, Männer! Unsere Torschützen: #Silas (12.), Jamie #Leweling (17.) & Justin #Diehl (62.)#VfB | #VfBSIT 3:0 | Partie im Re-Live schauen:', 'Aleix García  Bayer LeverkusenJeanuël Belocian  Bayer LeverkusenErmedin Demirovic  StuttgartJamie Leweling  Stuttgart', 'I kinda agree. I thought the story was meh but the gameplay and leveling system were fantastic', 'Jeff Chabot, Justin Diehl, Nick Woltemade, Ermedin Demirovic, Jamie Leweling, (Robin Hack)aber Dortmund kauft die Liga kaputt', 'Jamie Leweling und Chris Führich!', 'Immediately attack Kings Landing. Instead of leveling the city and killing so many ppl, I kill Cersei and Jamie, use the Golden Company and remaining Lannister forces to swell my ranks against the WW at Winterfell. I also force the Greyjoy fleet into submission', 'Grünes Licht SILAS IST FIT! Gleiches gilt für Jamie Leweling. Auch er musste leicht angeschlagen vorzeitig ausgewechselt werden.', ' Contratações do Stuttgart nessa janela até aqui: Ermedin Demirović (€21 milhões) Jamie Leweling (€5 milhões) Jeff Chabot (€4 milhões) Anthony Rouault (€3 milhões) Leonidas Stergiou (€2 milhões) Fabian Rieder (emp/€800 mil) Ramon Hendriks (€700', ' Essas são as saídas do Union Berlin até o momento na janela 24/25: Jamie Leweling ➳ VfB Stuttgart Mikkel Kaufmann ➳ Heidenheim Aïssa Laïdouni ➳ Al-Wakrah Morten Thorsby ➳ Genoa Robin Knoche ➳ Sem Clube Keita Endo ➳ Tokyo FC', 'Really kevin first less than week in office Rwanda scrapped foreign sec jetting around the Eu to strengthen relations kier chatting with all metro mayors to sort out the trains etc dept. Pm  scrapping the tory leveling up more than what the Tories did in 14 years  chew in that', 'I wouldnt be a whale. I’ll concentrate on leveling up 1-4 free characters and focus more on the artifacts', '7. Jamie LewelingTransfer Details: Loan from Union Berlin, buy option used for €5mPerformance: 34 matches, 4 goals, 7 assists.Market Value: Increased from €3m to €9m.', 'But then they commit a rhetorical sleight of hand, declaring that because of this, our values must be bad, then attempting to substitute a radical, alien and totalitarian set of values in their place – the values of radical equality and social leveling.', 'Zur Halbzeitpause führt der VfB mit 4:0 gegen den FSV Hollenbach! Die Tore erzielten Pascal #Stenzel (11.), #Silas (30., 35.) und Jamie #Leweling (40.).  Diese Elf wird in der zweiten Hälfte auf den Platz geschickt:41 Seimen, 3 Hendriks, 5 Keitel, 6 Stiller, 17 Diehl,', 'Ich habe schon 890€ für ne Dauerkarte für den glorreichen Verein für Bewegungspiele 1893 E.V und für nen Jamie Leweling Trikot ausgegeben.Die Irrelevante Toxic hoe kriegt von mir keinen Cent ', 'Admin, gib mir Jamie Leweling content, ich brauche motivation zu lernen', 'Devil comes at us the hardest when we’re leveling up. He will send his best, but you know it’s crazy when he himself comes against you. $Jesus has a better plan though. See I have an ecosystem myself. I have been learning to use bots. Soon I’ll have my own army of independent', 'Eben. Außerdem macht Hoeneß selbst No Name Spieler wie Jamie Leweling oder MaxiKing besser', 'Jamie #Leweling  Transfert définitif de #Stuttgart  Montant: 5M€.', 'Currently watching my friend go through viper leveling lmao', 'Jamie #Leweling  Prêté par l’#UnionBerlin , il rejoint définitivement le club.Montant : 5M€.', 'Pemain pinjaman yang dipermanenkanLeonidas Stergiou (€2 juta) dari st. gallenJamie Leweling (€5 juta) dari union berlinAnthony Rouault (€3 juta) dari toulouse', \"Girkin arrived in 2014 and fomented the separatism. His exact quotes - read them here you Kremlin cuck.«Кто ты, «Стрелок»?» (http://zavtra.ru)We're not stupid. You and other Russian cucks lie and support killing, raping, looting, invading, and leveling cities.Fuck off.\", 'Bestimmt ist das Leweling der sich als Fan ausgibt und uns alle hinters Licht führtJa Jamie, wir lieben dich, aber Ata hat sich durch seine Treue und Mentalität aufm platz einfach verdient ', 'Wir haben mit Waldi 3 Jahre um den Abstieg gespielt. Ja es war eine Top Saison von ihm, ABER wir sind uns wohl doch alle einig. Der Leistungsboom kam durch Spieler wie Nübel, Stiller, Mittelstädt, DENIZ LIEBE  ja sogar Riky hör zu durch Jamie Leweling  und Serhou. Alle da', 'Ok. I def have some leveling to do. I’m at 30.My current build is, uh, not going well in the DLC. Also, my lack of skill, haha.', \"I was but seeing people with 60 Vigor getting 1 shot is not great. I like a challenge but good grief I don't have unlimited time to keep leveling up. I beat the base game like 9 times, about 600 hours and I still struggle with Melania, I don't want harder bosses lol.\", 'The human population exploded in size over the past century and is projected to continue to grow even larger for another 50 years before leveling off and gradually declining. Why are some people treating this like some doomsday scenario we should move heaven and earth to avoid?', 'Over leveling one Pokemon is a disaster. Especially if you do it after the first gym or so and it doesn’t listen anymore. My core team has to be all be within the same 3-5 levels of each other', 'Semih kılıçsoy için. 21M € + bonuslara ek  olarakta Chris Führich’i ve Jamie Leweling’i beşkitaşa bedelsiz önerdi Beşiktaş ise 50 M€ istiyor Milli oyuncumuzun tek odaklandığı konu ise milli takım ve kadroya girebilmek ', 'This was literally me watching Solo Leveling today for the first time.', 'jamie im watching yo stream why are you trying not to laugh bruh thats disrespectful as shit STOP LAUGHING BRO', '17- Jamie leweling- extremo derecho Nacionalidad: aleman Edad 23 años Club: stuttgart', 'Good to see not everyone in the industry is going the niche Pinterest  / Facebook way.Congrats on leveling up!', 'Same with Solo Leveling I was reading this the WEBTOON but once I watch the first episode, I was just turned off immediately. I think it’s because I have to wait for the buildup to where I am right now and I just can’t go through that journey again via animation.', ' 𝐎𝐏𝐂̧𝐀̃𝐎 𝐃𝐄 𝐂𝐎𝐌𝐏𝐑𝐀 𝐀𝐓𝐈𝐕𝐀𝐃𝐀 O #VfB Stuttgart ativou a opção de compra de Jamie #Leweling, avançado de 23 anos que estava emprestado pelo #fcunion.A compra foi anunciada no final da temporada, e arrecadamos €5M. ', 'Angelo Stiller 18,00 Mio —> 20,00 Mio | + 2,00 MioMaximilian Mittelstädt 14,00 Mio —> 17,00 Mio | + 3,00 MioAlexander Nübel 10,00 Mio —> 12, 00 Mio | + 2,00 MioAtakan Karazor 10,00 Mio —> 12, 00 Mio | + 2,00 MioJamie Leweling 6,00 Mio —> 9,00 Mio | + 3,00 Mio', 'Mein VfB - Saisonrückblick 2023/24. Teil 3/10. Meine Top 6 Transfers. Platz 6 : Leonidas Stergiou. Platz 5 : Jamie Leweling. Platz 4 : Alexander Nübel. Platz 3 : Angelo Stiller. Platz 2 : Deniz Undav. Platz 1 : Maximilian Mittelstädt.', 'Solo Leveling (2024): 9.5/10', 'Btw. Ehrentreffer für Fürth: Jamie Leweling', 'Tor Jamie Leweling :)', \"The idea may be workable but the execution will as always be terrible Also to take 2.5 billion per year away from the leveling up fund doesn't sound quite that cute ...14 years of youth services decimated and this is what the Tories come up with Huge click bait\", 'JAMIE LEWELING (Stuttgart)Llegó al club suavo tras pasar con más pena que gloria por el Union Berlin, y tras ir de menos a más ha acabado de titular. Otro jugador mejorado por Sebastian Hoeneß.Nota: ya se que no es lateral pero esta temporada ha jugador a veces de carrilero', 'Stuttgart, sezon başında Union Berlin’den kiralık olarak kadrosuna kattığı 23 yaşındaki sağ kanat oyuncusu Jamie Leweling’in bonservisini 5 milyon € karşılığında aldı ve Alman oyuncu ile Haziran 2028’e kadar sözleşme imzaladı. #Stuttgart #UnionBerlin #JamieLeweling', 'Ralat: Jamie Leweling dipermanenkan dari masa peminjaman', 'Jamie Leweling (23) Nick Woltemade (22) Yannik Keitel (24) Justin Diehl (19) Stefan Drljaca (25) Stuttgart langsung gerak cepat utk menyambut musim depan. Mereka mengumumkan kedatangan 5 pemain free agent dlm 6 hari terakhirNext: Julian Chabot yg sudah', 'Stuttgart have exercised their option to sign Jamie Leweling on a permanent deal from Union Berlin. The winger has signed a contract that will keep him at the club until June 2028.', 'U23 Attackers that stood out to me in a quick skim of @fbref/@optaanalyst@bundesliga:Mathys Tel - @fcbayern Justin Njinmah - @werderbremen Jamie Leweling - @VfB Fares Chaïbi - @Eintracht Merlin Röhl - @scfreiburg Maximilian Beier - @tsghoffenheim Brajan Gruda - Mainz 05', 'jamie leweling', 'Seine einzige Intention ist es Jamie Leweling zu beleidigen - damit dieser 3min danach einen Scorerpunkt macht !', 'THERES DOKKAEBI TOO?? well it’s kinda one person but still… this is just the pokémon version of orv x solo leveling except it’s brainwashing s-class hunters AND pokémon', 'This will allow our UK friends to take a deep stake in leveling the Globalist playing field for out rights and freedoms.  @Nigel_Farage https://x.com/HODL15Capital//HODL15Capital/status/1793259442294722891…', 'when i say i’m a “manhwa enthusiast” but all the manhwas i’ve read r either solo leveling copies (they’re good tho..) with amazing art or yuri', 'Woo-Yeong #Jeong est le joker préféré de Sebastian #Hoeneß. Il est entré en jeu à 23 reprises cette saison.- #Silas (21)- Jamie #Leweling (20)- Mahmoud #Dahoud (13)- Leo #Stergiou et Anthony #Rouault (12)', '#WallpaperWednesday 𝙎𝙩𝙖𝙧𝙧𝙞𝙣𝙜: Jamie #Leweling #VfB', 'Sunak came second to a lettuce Sunak is too scared to call an election Sunak goes to a far right country to sell his story Sunak is sunk with the only leveling up being his personal fortune as UK people struggle to feed their children and elderly #ToriesBrokeBritain']}\n"
     ]
    }
   ],
   "source": [
    "print(tweets_by_name)"
   ]
  },
  {
   "cell_type": "code",
   "execution_count": 30,
   "metadata": {},
   "outputs": [],
   "source": [
    "import json\n",
    "\n",
    "# Convert and write JSON object to file\n",
    "with open(\"data/twitter/palmer_tweets.json\", \"w\", encoding='utf-8') as outfile: \n",
    "    json.dump(tweets_by_name, outfile, ensure_ascii=False)"
   ]
  }
 ],
 "metadata": {
  "colab": {
   "authorship_tag": "ABX9TyNHQZXjj62OeO56Rip4GYwK",
   "include_colab_link": true,
   "provenance": []
  },
  "kernelspec": {
   "display_name": "venv",
   "language": "python",
   "name": "python3"
  },
  "language_info": {
   "codemirror_mode": {
    "name": "ipython",
    "version": 3
   },
   "file_extension": ".py",
   "mimetype": "text/x-python",
   "name": "python",
   "nbconvert_exporter": "python",
   "pygments_lexer": "ipython3",
   "version": "3.12.6"
  }
 },
 "nbformat": 4,
 "nbformat_minor": 0
}
